{
 "cells": [
  {
   "cell_type": "code",
   "execution_count": null,
   "metadata": {},
   "outputs": [],
   "source": [
    "import pandas as pd\n",
    "import matplotlib.pyplot as plt\n",
    "import numpy as np\n",
    "import seaborn as sns \n",
    "\n",
    "import plotly.express as px\n",
    "import plotly.graph_objects as go\n",
    "from jupyter_dash import JupyterDash\n",
    "import dash_core_components as dcc\n",
    "import dash_html_components as html\n",
    "from dash.dependencies import Input, Output"
   ]
  },
  {
   "cell_type": "markdown",
   "metadata": {},
   "source": [
    "# Load Dataset"
   ]
  },
  {
   "cell_type": "code",
   "execution_count": null,
   "metadata": {},
   "outputs": [],
   "source": [
    "df = pd.read_csv('Data_Professional_Salary_Survey_Responses.csv')\n",
    "df.rename(columns={' SalaryUSD ': 'SalaryUSD'}, inplace=True)\n",
    "df"
   ]
  },
  {
   "cell_type": "markdown",
   "metadata": {},
   "source": [
    "# Show the Count of each Columns "
   ]
  },
  {
   "cell_type": "code",
   "execution_count": null,
   "metadata": {},
   "outputs": [],
   "source": [
    "df.isna().sum()"
   ]
  },
  {
   "cell_type": "markdown",
   "metadata": {},
   "source": [
    "# Data Cleaning:"
   ]
  },
  {
   "cell_type": "markdown",
   "metadata": {},
   "source": [
    "#### Replacing missing values with np.nan"
   ]
  },
  {
   "cell_type": "code",
   "execution_count": null,
   "metadata": {},
   "outputs": [],
   "source": [
    "missing_val = ['Not Asked']\n",
    "df.replace(missing_val, np.nan, inplace = True)"
   ]
  },
  {
   "cell_type": "markdown",
   "metadata": {},
   "source": [
    "#### Count of Nan's after replacing"
   ]
  },
  {
   "cell_type": "code",
   "execution_count": null,
   "metadata": {},
   "outputs": [],
   "source": [
    "df.isna().sum()"
   ]
  },
  {
   "cell_type": "markdown",
   "metadata": {},
   "source": [
    "#### Remove columns that contains NaN more than 30%"
   ]
  },
  {
   "cell_type": "code",
   "execution_count": null,
   "metadata": {},
   "outputs": [],
   "source": [
    "df=df.drop(['PostalCode', 'HowManyCompanies', 'CompanyEmployeesOverall', 'Education', 'EducationIsComputerRelated', \n",
    "'Certifications', 'HoursWorkedPerWeek', 'TelecommuteDaysPerWeek', 'NewestVersionInProduction', 'OldestVersionInProduction',\n",
    "'PopulationOfLargestCityWithin20Miles', 'OtherJobDuties', 'KindsOfTasksPerformed', 'LookingForAnotherJob'], axis = 1)"
   ]
  },
  {
   "cell_type": "code",
   "execution_count": null,
   "metadata": {},
   "outputs": [],
   "source": [
    "df.isna().sum()"
   ]
  },
  {
   "cell_type": "markdown",
   "metadata": {},
   "source": [
    "#### Fill nulls values"
   ]
  },
  {
   "cell_type": "code",
   "execution_count": null,
   "metadata": {},
   "outputs": [],
   "source": [
    "df['OtherDatabases'] = df['OtherDatabases'].fillna(df['OtherDatabases'].mode()[0])\n",
    "df['DatabaseServers'] = df['DatabaseServers'].fillna(df['DatabaseServers'].mode()[0])\n",
    "df['CareerPlansThisYear'] = df['CareerPlansThisYear'].fillna(df['CareerPlansThisYear'].mode()[0])\n",
    "# We can't fill the Gender by mode. We assume that it is Unknown\n",
    "df['Gender'] = df['Gender'].fillna('Unknown')\n",
    "df['Gender']= df['Gender'].replace(['None'],'Unknown')"
   ]
  },
  {
   "cell_type": "markdown",
   "metadata": {},
   "source": [
    "#### Replace outliers by nulls"
   ]
  },
  {
   "cell_type": "code",
   "execution_count": null,
   "metadata": {},
   "outputs": [],
   "source": [
    "print(df['YearsWithThisTypeOfJob'].unique())\n",
    "df.loc[df['YearsWithThisTypeOfJob'] > 45]= np.nan"
   ]
  },
  {
   "cell_type": "markdown",
   "metadata": {},
   "source": [
    "#### Fill the replaced values by the mean"
   ]
  },
  {
   "cell_type": "code",
   "execution_count": null,
   "metadata": {},
   "outputs": [],
   "source": [
    "m= df['YearsWithThisTypeOfJob'].mean(skipna=True)\n",
    "df['YearsWithThisTypeOfJob'] = df['YearsWithThisTypeOfJob'].fillna(round(m))"
   ]
  },
  {
   "cell_type": "markdown",
   "metadata": {},
   "source": [
    "#### Convert to numeric"
   ]
  },
  {
   "cell_type": "code",
   "execution_count": null,
   "metadata": {},
   "outputs": [],
   "source": [
    "#convert to numeric\n",
    "df['SalaryUSD']=df[\"SalaryUSD\"].str.replace(\",\",\"\").astype(float)\n",
    "df['SalaryUSD']= pd.to_numeric(df[\"SalaryUSD\"])\n",
    "df.head()"
   ]
  },
  {
   "cell_type": "markdown",
   "metadata": {},
   "source": [
    "# Country Selection Options List"
   ]
  },
  {
   "cell_type": "code",
   "execution_count": null,
   "metadata": {},
   "outputs": [],
   "source": [
    "countries = df[['Country']].groupby(['Country']).count()\n",
    "\n",
    "# Load country list as option for multi select dropdown select\n",
    "optionsCountry =[{'label': \"Select All\", 'value': -1}]\n",
    "for i in range(len(countries.index)):\n",
    "    optionsCountry.append({'label': countries.index[i], 'value': countries.index[i]})\n",
    "\n",
    "countries"
   ]
  },
  {
   "cell_type": "markdown",
   "metadata": {},
   "source": [
    "# Years Selection"
   ]
  },
  {
   "cell_type": "code",
   "execution_count": null,
   "metadata": {},
   "outputs": [],
   "source": [
    "years = df[['Survey Year']].groupby(['Survey Year']).count()\n",
    "years.index = years.index.astype(int) # Convert type to int\n",
    "\n",
    "# Load country list as option for multi select dropdown select\n",
    "optionsYears =[{'label': \"Select All\", 'value': -1}]\n",
    "for i in range(len(years.index)):\n",
    "    optionsYears.append({'label': years.index[i], 'value': years.index[i]})\n",
    "\n",
    "years"
   ]
  },
  {
   "cell_type": "markdown",
   "metadata": {},
   "source": [
    "### Job Title and Gender selection lists"
   ]
  },
  {
   "cell_type": "code",
   "execution_count": null,
   "metadata": {},
   "outputs": [],
   "source": [
    "gender=df[['Gender']].groupby(['Gender']).count()\n",
    "\n",
    "\n",
    "# Load gender list as option for dropdown select\n",
    "optionsGender =[{'label': \"Unknown\", 'value': \"Unknown\"}]\n",
    "for i in range(len(gender.index)-1):\n",
    "    optionsGender.append({'label': gender.index[i], 'value': gender.index[i]})\n",
    "\n",
    "optionsGender"
   ]
  },
  {
   "cell_type": "code",
   "execution_count": null,
   "metadata": {},
   "outputs": [],
   "source": [
    "jobTitle=df[['JobTitle']].groupby(['JobTitle']).count()\n",
    "\n",
    "\n",
    "# Load gender list as option for dropdown select\n",
    "optionsJobs =[{'label': \"Developer: Business Intelligence (SSRS, PowerBI, etc)\", 'value': \"Developer: Business Intelligence (SSRS, PowerBI, etc)\"}]\n",
    "for i in range(1,len(jobTitle)):\n",
    "    optionsJobs.append({'label': jobTitle.index[i], 'value': jobTitle.index[i]})\n",
    "\n",
    "optionsJobs"
   ]
  },
  {
   "cell_type": "markdown",
   "metadata": {},
   "source": [
    "# Bootstrap Dashboard App"
   ]
  },
  {
   "cell_type": "code",
   "execution_count": null,
   "metadata": {},
   "outputs": [],
   "source": [
    "import dash\n",
    "import dash_bootstrap_components as dbc\n",
    "#from dash.dependencies import Input, Output\n",
    "from dash import Input, Output, dcc, html\n",
    "\n",
    "app = dash.Dash(external_stylesheets=[dbc.themes.BOOTSTRAP])\n",
    "\n",
    "app.title = \"Salary Survey\"\n",
    "server = app.server\n",
    "\n",
    "# the style arguments for the sidebar. We use position:fixed and a fixed width\n",
    "SIDEBAR_STYLE = {\n",
    "    \"position\": \"fixed\",\n",
    "    \"top\": 0,\n",
    "    \"left\": 0,\n",
    "    \"bottom\": 0,\n",
    "    \"width\": \"16rem\",\n",
    "    \"padding\": \"2rem 1rem\",\n",
    "    \"background-color\": \"#f8f9fa\",\n",
    "}\n",
    "\n",
    "navbar = dbc.NavbarSimple(\n",
    "    children=[\n",
    "        dbc.NavItem(dbc.NavLink(\"Salary\", href=\"/\", active=\"exact\")),\n",
    "        dbc.NavItem(dbc.NavLink(\"Job Experience\", href=\"/page-1\", active=\"exact\")),\n",
    "        dbc.NavItem(dbc.NavLink(\"Primary Database\", href=\"/page-2\", active=\"exact\")),\n",
    "    ],\n",
    "    brand=\"Data Professional Salary Survey Responses\",\n",
    "    brand_href=\"#\",\n",
    "    color=\"primary\",\n",
    "    dark=True,\n",
    ")\n",
    "# the styles for the main content position it to the right of the sidebar and\n",
    "# add some padding.\n",
    "CONTENT_STYLE = {\n",
    "    \"margin-left\": \"2rem\",\n",
    "    \"margin-right\": \"2rem\",\n",
    "    \"padding\": \"2rem 1rem\",\n",
    "}\n",
    "\n",
    "\n",
    "#The controls of Salary page\n",
    "controls_page0 = dbc.Card(\n",
    "    [\n",
    "         html.Label('Group By'),\n",
    "            dcc.Dropdown(\n",
    "            id=\"groupby\",\n",
    "            options= [{'label': 'Country', 'value': 'Country'},\n",
    "                      {'label': 'Survey Year', 'value': 'Survey Year'},\n",
    "                      {'label': 'Employment Sector', 'value': 'EmploymentSector'},\n",
    "                      {'label': 'Employment Status', 'value': 'EmploymentStatus'},\n",
    "                      {'label': 'Manage Staff', 'value': 'ManageStaff'},\n",
    "                      {'label': 'Gender', 'value': 'Gender'},\n",
    "                      {'label': 'Career Plans This Year', 'value': 'CareerPlansThisYear'}],\n",
    "            value= 'Country',\n",
    "        ),\n",
    "\n",
    "        html.Br(),\n",
    "        html.Label('Operation'),\n",
    "        dcc.Dropdown(\n",
    "            id=\"operation\",\n",
    "            options= [{'label': 'sum()', 'value': 'sum'},\n",
    "                      {'label': 'count()', 'value': 'count'}],\n",
    "            value= 'sum',\n",
    "        ),\n",
    "\n",
    "        html.Br(),\n",
    "        html.Label('Country'),\n",
    "        dcc.Dropdown(\n",
    "            id=\"country\",\n",
    "            options= optionsCountry,\n",
    "            value= -1,\n",
    "            multi= True\n",
    "        ),\n",
    "\n",
    "        html.Br(),\n",
    "        html.Label('Plot Type'),\n",
    "        dbc.Card([dbc.RadioItems(\n",
    "            id='plot_radio_items',\n",
    "            value=\"1\",\n",
    "            options=[{\n",
    "                'label': 'Bar',\n",
    "                'value': '1'\n",
    "            },\n",
    "                {\n",
    "                    'label': 'Line',\n",
    "                    'value': '2'\n",
    "                },\n",
    "              \n",
    "            ],\n",
    "            \n",
    "        )]),\n",
    "    ],\n",
    "    body=True,\n",
    ")\n",
    "\n",
    "#The controls of Job Experience page\n",
    "controls_page1 = dbc.Card(\n",
    "    [\n",
    "    \n",
    "                html.Label('Gender'),\n",
    "                dbc.Card([\n",
    "                  dcc.RadioItems(\n",
    "                    id=\"gender-slider\",\n",
    "                    value='Female',\n",
    "                    options=optionsGender,\n",
    "                    labelStyle={'display': 'block'},\n",
    "                        \n",
    "                )]),\n",
    "\n",
    "        \n",
    "                html.Br(),\n",
    "                html.Label('Job Title'),\n",
    "                dcc.Dropdown(id=\"slct_job\",\n",
    "                            options=optionsJobs,\n",
    "                            multi=False,\n",
    "                            value='Manager',\n",
    "                            optionHeight=60,\n",
    "                            ),\n",
    "                \n",
    "                \n",
    "    ],\n",
    "    body=True,\n",
    ")\n",
    "\n",
    "#The controls of Primary Database page\n",
    "controls_page2 = dbc.Card(\n",
    "    [\n",
    "\n",
    "            html.Label(\"Year\"),\n",
    "            dcc.Dropdown(\n",
    "                    id='yrs', \n",
    "                    value= 2021, #it is the default value\n",
    "                    options=optionsYears,\n",
    "                ),\n",
    "            html.Br(),\n",
    "            html.Label(\"Country\"),\n",
    "             dcc.Dropdown(\n",
    "                    id='c', \n",
    "                    clearable=True,\n",
    "                    value= \"United States\", #it is the defaullt value \n",
    "                    options=optionsCountry,\n",
    "                    ),\n",
    "                \n",
    "    ],\n",
    "    body=True,\n",
    ")\n",
    "\n",
    "content = html.Div(id=\"page-content\", style=CONTENT_STYLE)\n",
    "\n",
    "app.layout = html.Div([dcc.Location(id=\"url\"), navbar, content])\n",
    "\n",
    "\n",
    "@app.callback(Output(\"page-content\", \"children\"), [Input(\"url\", \"pathname\")])\n",
    "def render_page_content(pathname):\n",
    "            ############# Salary ###############\n",
    "    if pathname == \"/\":\n",
    "        return [\n",
    "            dbc.Row(\n",
    "            [\n",
    "                dbc.Col(\n",
    "                    width=4,\n",
    "                    children=dbc.Card(\n",
    "                        [dbc.CardHeader(\"Controls\"), dbc.CardBody(controls_page0),]\n",
    "                    ),\n",
    "                ),\n",
    "                dbc.Col(\n",
    "                    width=8,\n",
    "                    children=dbc.Card(\n",
    "                        [\n",
    "                            dbc.CardHeader(\"The Visualization\"),\n",
    "                            dbc.CardBody(dcc.Graph(id=\"graphCountry\"), style={\"height\": \"100%\"}),\n",
    "                        ],\n",
    "                        style={\"height\": \"80vh\"},\n",
    "                    ),\n",
    "                ),\n",
    "            ],\n",
    "            ),\n",
    "           \n",
    "             ]\n",
    "            ############# Salary ###############\n",
    "\n",
    "            ############# Job Experience ###############\n",
    "    elif pathname == \"/page-1\":\n",
    "        return  [\n",
    "                dbc.Row(\n",
    "            [\n",
    "                dbc.Col(\n",
    "                    width=4,\n",
    "                    children=dbc.Card(\n",
    "                        [dbc.CardHeader(\"Controls\"), dbc.CardBody(controls_page1),]\n",
    "                    ),\n",
    "                ),\n",
    "                dbc.Col(\n",
    "                    width=8,\n",
    "                    children=dbc.Card(\n",
    "                        [\n",
    "                            dbc.CardHeader(\"The Visualization\"),\n",
    "                            dbc.CardBody(dcc.Graph(id=\"Experience\"), style={\"height\": \"100%\"}),\n",
    "                        ],\n",
    "                        style={\"height\": \"80vh\"},\n",
    "                    ),\n",
    "                ),\n",
    "            ],\n",
    "            ),\n",
    "                \n",
    "                ]\n",
    "            ############ End Job Experience ##############\n",
    "\n",
    "            ############# Primary Database ###############\n",
    "    elif pathname == \"/page-2\":\n",
    "        return [\n",
    "            dbc.Row(\n",
    "            [\n",
    "                dbc.Col(\n",
    "                    width=4,\n",
    "                    children=dbc.Card(\n",
    "                        [dbc.CardHeader(\"Controls\"), dbc.CardBody(controls_page2),]\n",
    "                    ),\n",
    "                ),\n",
    "                dbc.Col(\n",
    "                    width=8,\n",
    "                    children=dbc.Card(\n",
    "                        [\n",
    "                            dbc.CardHeader(\"The Visualization\"),\n",
    "                            dbc.CardBody(dcc.Graph(id=\"graph2\"), style={\"height\": \"100%\"}),\n",
    "                        ],\n",
    "                        style={\"height\": \"80vh\"},\n",
    "                    ),\n",
    "                ),\n",
    "            ],\n",
    "            ),\n",
    "\n",
    "        ]\n",
    "         ############# End Primary Database ###############\n",
    "\n",
    "    # If the user tries to reach a different page, return a 404 message\n",
    "    return dbc.Jumbotron(\n",
    "        [\n",
    "            html.H1(\"404: Not found\", className=\"text-danger\"),\n",
    "            html.Hr(),\n",
    "            html.P(f\"The pathname {pathname} was not recognised...\"),\n",
    "        ]\n",
    "    )\n",
    "\n",
    "############# Salary ###############\n",
    "@app.callback(Output('graphCountry', 'figure'), [Input(\"country\", \"value\"),Input(\"groupby\", \"value\"),Input(\"operation\", \"value\"),Input(\"plot_radio_items\",\"value\"),])\n",
    "def update_figure(val_country, val_groupby, val_operation, plot_radio_items):\n",
    "    data = df\n",
    "\n",
    "    if (val_country != -1):\n",
    "        data = data[data[\"Country\"].isin(val_country)]\n",
    "\n",
    "    if (val_operation == 'sum'):\n",
    "        data = data.groupby([val_groupby]).sum()\n",
    "    if (val_operation == 'count'):\n",
    "        data = data.groupby([val_groupby]).count()\n",
    "\n",
    "    data = data.reset_index()\n",
    "\n",
    "    plot =0 \n",
    "    if (plot_radio_items == '1' ):\n",
    "        plot = px.bar(\n",
    "                data,\n",
    "                x= val_groupby,\n",
    "                y= \"SalaryUSD\"\n",
    "            )\n",
    "    elif (plot_radio_items =='2' ):\n",
    "        plot = px.line(data, x=val_groupby, y=\"SalaryUSD\", markers=True)\n",
    "\n",
    "    plot.update_layout(title={\n",
    "        'text': \"The Amount of Salary Based on \"+val_groupby,\n",
    "        'y':0.95,\n",
    "        'x':0.5,\n",
    "        'xanchor': 'center',\n",
    "        'yanchor': 'top'})\n",
    "    return plot\n",
    "############ End Salary ##############\n",
    "\n",
    "############# Job Experince ###############\n",
    "@app.callback(\n",
    "    Output('Experience', 'figure'),\n",
    "\n",
    "    [Input(\"gender-slider\", \"value\"),\n",
    "    Input(\"slct_job\", \"value\"),]\n",
    ")  \n",
    "def update_Experince(slctdGender, slctdJob):\n",
    "    data = df.copy()\n",
    "\n",
    "    data = data[data[\"Gender\"] == slctdGender]\n",
    "    data = data[data[\"JobTitle\"] == slctdJob]\n",
    "\n",
    "    fig = px.box(data, y=\"YearsWithThisTypeOfJob\", labels={\"YearsWithThisTypeOfJob\": \"Years\",},)\n",
    "\n",
    "    fig.update_layout(title={\n",
    "        'text': \"Experience Years for a Specific Job Title\",\n",
    "        'y':0.95,\n",
    "        'x':0.5,\n",
    "        'xanchor': 'center',\n",
    "        'yanchor': 'top'})\n",
    "\n",
    "    return fig\n",
    "############ End Job Experince ##############\n",
    "    \n",
    "############# Primary Database ###############\n",
    "@app.callback(\n",
    "    Output('graph2', 'figure'),\n",
    "    [Input(\"yrs\", \"value\"),\n",
    "    Input(\"c\",\"value\")]\n",
    "    \n",
    ")\n",
    "def update_figure(val,c):\n",
    "\n",
    "    test = df[(df['Survey Year']==val) & (df['Country']==c)]\n",
    "    value_counts = test['PrimaryDatabase'].value_counts()#value counts for primary database\n",
    "    fig =px.bar(x=value_counts.index, y=value_counts,labels={\"x\":\" Primary Databases\",\"y\":\"No. of Used Database\"})#bar graph\n",
    "    fig.update_layout(\n",
    "    title={\n",
    "        'text': \"The Most Used Databases\",\n",
    "        'y':0.95,\n",
    "        'x':0.5,\n",
    "        'xanchor': 'center',\n",
    "        'yanchor': 'top'})\n",
    "\n",
    "    return fig\n",
    "\n",
    "############ End Primary Database ##############\n",
    "\n",
    "if __name__ == \"__main__\":\n",
    "    app.run_server(port=8888)\n"
   ]
  }
 ],
 "metadata": {
  "interpreter": {
   "hash": "b53c3a37e441508ace578b6688a967cd76727ea9e436bd07fe44915c74bc3245"
  },
  "kernelspec": {
   "display_name": "Python 3.8.8 64-bit ('base': conda)",
   "language": "python",
   "name": "python3"
  },
  "language_info": {
   "codemirror_mode": {
    "name": "ipython",
    "version": 3
   },
   "file_extension": ".py",
   "mimetype": "text/x-python",
   "name": "python",
   "nbconvert_exporter": "python",
   "pygments_lexer": "ipython3",
   "version": "3.7.6"
  },
  "orig_nbformat": 4
 },
 "nbformat": 4,
 "nbformat_minor": 2
}
