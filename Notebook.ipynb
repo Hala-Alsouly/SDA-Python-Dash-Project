{
 "cells": [
  {
   "cell_type": "code",
   "execution_count": null,
   "metadata": {},
   "outputs": [],
   "source": [
    "import pandas as pd\n",
    "import matplotlib.pyplot as plt\n",
    "import numpy as np\n",
    "import seaborn as sns \n",
    "\n",
    "import plotly.express as px\n",
    "import plotly.graph_objects as go\n",
    "from jupyter_dash import JupyterDash\n",
    "import dash_core_components as dcc\n",
    "import dash_html_components as html\n",
    "from dash.dependencies import Input, Output"
   ]
  },
  {
   "cell_type": "markdown",
   "metadata": {},
   "source": [
    "# Load Dataset"
   ]
  },
  {
   "cell_type": "code",
   "execution_count": null,
   "metadata": {},
   "outputs": [],
   "source": [
    "df = pd.read_csv('Data_Professional_Salary_Survey_Responses.csv')\n",
    "df.rename(columns={' SalaryUSD ': 'SalaryUSD'}, inplace=True)\n",
    "df"
   ]
  },
  {
   "cell_type": "markdown",
   "metadata": {},
   "source": [
    "# Show the Count of NaN in each Columns "
   ]
  },
  {
   "cell_type": "code",
   "execution_count": null,
   "metadata": {},
   "outputs": [],
   "source": [
    "df.isna().sum()"
   ]
  },
  {
   "cell_type": "markdown",
   "metadata": {},
   "source": [
    "# Data Cleaning:"
   ]
  },
  {
   "cell_type": "markdown",
   "metadata": {},
   "source": [
    "#### Replacing missing values with np.nan"
   ]
  },
  {
   "cell_type": "code",
   "execution_count": null,
   "metadata": {},
   "outputs": [],
   "source": [
    "missing_val = ['Not Asked']\n",
    "df.replace(missing_val, np.nan, inplace = True)"
   ]
  },
  {
   "cell_type": "markdown",
   "metadata": {},
   "source": [
    "### Count of Nan's after replacing"
   ]
  },
  {
   "cell_type": "code",
   "execution_count": null,
   "metadata": {},
   "outputs": [],
   "source": [
    "df.isna().sum()"
   ]
  },
  {
   "cell_type": "markdown",
   "metadata": {},
   "source": [
    "#### Remove columns that contains NaN more than 30%"
   ]
  },
  {
   "cell_type": "code",
   "execution_count": null,
   "metadata": {},
   "outputs": [],
   "source": [
    "df=df.drop(['PostalCode', 'HowManyCompanies', 'CompanyEmployeesOverall', 'Education', 'EducationIsComputerRelated', \n",
    "'Certifications', 'HoursWorkedPerWeek', 'TelecommuteDaysPerWeek', 'NewestVersionInProduction', 'OldestVersionInProduction',\n",
    "'PopulationOfLargestCityWithin20Miles', 'OtherJobDuties', 'KindsOfTasksPerformed', 'LookingForAnotherJob'], axis = 1)"
   ]
  },
  {
   "cell_type": "code",
   "execution_count": null,
   "metadata": {},
   "outputs": [],
   "source": [
    "df.isna().sum()"
   ]
  },
  {
   "cell_type": "markdown",
   "metadata": {},
   "source": [
    "#### Fill nulls values"
   ]
  },
  {
   "cell_type": "code",
   "execution_count": null,
   "metadata": {},
   "outputs": [],
   "source": [
    "df['OtherDatabases'] = df['OtherDatabases'].fillna(df['OtherDatabases'].mode()[0])\n",
    "df['DatabaseServers'] = df['DatabaseServers'].fillna(df['DatabaseServers'].mode()[0])\n",
    "df['CareerPlansThisYear'] = df['CareerPlansThisYear'].fillna(df['CareerPlansThisYear'].mode()[0])\n",
    "# We can't fill the Gender by mode. We assume that it is Unknown\n",
    "df['Gender'] = df['Gender'].fillna('Unknown')\n",
    "df['Gender']= df['Gender'].replace(['None'],'Unknown')"
   ]
  },
  {
   "cell_type": "markdown",
   "metadata": {},
   "source": [
    "#### Convert to numeric"
   ]
  },
  {
   "cell_type": "code",
   "execution_count": null,
   "metadata": {},
   "outputs": [],
   "source": [
    "#convert to numeric\n",
    "df['SalaryUSD']=df[\"SalaryUSD\"].str.replace(\",\",\"\").astype(float)\n",
    "df['SalaryUSD']= pd.to_numeric(df[\"SalaryUSD\"])\n",
    "df.head()"
   ]
  },
  {
   "cell_type": "markdown",
   "metadata": {},
   "source": [
    "# Country Selection Options list"
   ]
  },
  {
   "cell_type": "code",
   "execution_count": null,
   "metadata": {},
   "outputs": [],
   "source": [
    "countries = df[['Country']].groupby(['Country']).count()\n",
    "\n",
    "# Load country list as option for multi select dropdown select\n",
    "optionsCountry =[{'label': \"Select All\", 'value': -1}]\n",
    "for i in range(len(countries.index)):\n",
    "    optionsCountry.append({'label': countries.index[i], 'value': countries.index[i]})\n",
    "\n",
    "countries"
   ]
  },
  {
   "cell_type": "code",
   "execution_count": null,
   "metadata": {},
   "outputs": [],
   "source": [
    "def update_figure(val_country):\n",
    "    data = df\n",
    "\n",
    "    if (val_country != -1):\n",
    "        data = data[data[\"Country\"].isin(val_country)]\n",
    "\n",
    "    data = data.groupby([\"Country\"]).sum().reset_index()\n",
    "    data = data.reset_index()\n",
    "\n",
    "    return px.bar(\n",
    "        data,\n",
    "        x= \"Country\",\n",
    "        y= \"SalaryUSD\"\n",
    "    )"
   ]
  },
  {
   "cell_type": "markdown",
   "metadata": {},
   "source": [
    "### Job Title selection list"
   ]
  },
  {
   "cell_type": "code",
   "execution_count": null,
   "metadata": {},
   "outputs": [],
   "source": [
    "jobTitle=df['JobTitle'].unique()\n",
    "\n",
    "genderList=df['Gender'].unique()\n"
   ]
  },
  {
   "cell_type": "markdown",
   "metadata": {},
   "source": [
    "# Dashboard App"
   ]
  },
  {
   "cell_type": "code",
   "execution_count": null,
   "metadata": {},
   "outputs": [],
   "source": [
    "app = JupyterDash(__name__)\n",
    "\n",
    "app.layout = html.Div([\n",
    "\n",
    "    html.Label('Country'),\n",
    "    dcc.Dropdown(\n",
    "        id=\"country\",\n",
    "        options= optionsCountry,\n",
    "        value= -1,\n",
    "        multi= True\n",
    "    ),\n",
    "\n",
    "    dcc.Graph(id=\"graphCountry\"),\n",
    "\n",
    "    ############# Job Experince ###############\n",
    "    html.Br(),\n",
    "    dcc.RadioItems(\n",
    "        id=\"gender-slider\",\n",
    "        value=\"Female\",\n",
    "        options=[\n",
    "                {\"label\": gender, \"value\": gender}\n",
    "                for gender in genderList],\n",
    "            \n",
    "    ),\n",
    "    html.Br(),\n",
    "    dcc.Dropdown(id=\"slct_job\",\n",
    "                 options=[\n",
    "                     {\"label\": job, \"value\": job} for job in jobTitle],\n",
    "                 multi=False,\n",
    "                 value=\"Manager\",\n",
    "                 style={'width': \"20%\"}\n",
    "                 ),\n",
    "    \n",
    "    \n",
    "\n",
    "    dcc.Graph(id=\"Experince\"),\n",
    "    ############ End Job Experince ##############\n",
    "  \n",
    "])\n",
    "\n",
    "\n",
    "@app.callback(\n",
    "    Output('graphCountry', 'figure'),\n",
    "\n",
    "    [Input(\"country\", \"value\"),]\n",
    ")\n",
    "\n",
    "def update_figure(val_country):\n",
    "    data = df\n",
    "\n",
    "    if (val_country != -1):\n",
    "        data = data[data[\"Country\"].isin(val_country)]\n",
    "\n",
    "    data = data.groupby([\"Country\"]).sum()\n",
    "    data = data.reset_index()\n",
    "\n",
    "    return px.bar(\n",
    "        data,\n",
    "        x= \"Country\",\n",
    "        y= \"SalaryUSD\"\n",
    "    )\n",
    "\n",
    "\n",
    "############# Job Experince ###############\n",
    "@app.callback(\n",
    "    Output('Experince', 'figure'),\n",
    "\n",
    "    [Input(\"gender-slider\", \"value\"),\n",
    "    Input(\"slct_job\", \"value\"),]\n",
    ")  \n",
    "def update_Experince(slctdGender, slctdJob):\n",
    "    data = df.copy()\n",
    "\n",
    "    data = data[data[\"Gender\"] == slctdGender]\n",
    "    data = data[data[\"JobTitle\"] == slctdJob]\n",
    "\n",
    "    fig = px.histogram(data, x=\"YearsWithThisTypeOfJob\")\n",
    "\n",
    "    return fig\n",
    "############ End Job Experince ##############\n",
    "\n",
    "if __name__ == '__main__':\n",
    "    app.run_server(mode=\"inline\", debug=False)"
   ]
  },
  {
   "cell_type": "code",
   "execution_count": null,
   "metadata": {},
   "outputs": [],
   "source": [
    "@app.callback(\n",
    "    Output('Experince', 'figure'),\n",
    "\n",
    "    [Input(\"gender-slider\", \"value\"),\n",
    "    Input(\"slct_job\", \"value\"),]\n",
    ")  \n",
    "def update_Experince(slctdGender, slctdJob):\n",
    "    data = df.copy()\n",
    "\n",
    "    data = data[data[\"Gender\"] == slctdGender]\n",
    "    data = data[data[\"JobTitle\"] == slctdJob]\n",
    "\n",
    "    fig = px.histogram(data, x=\"YearsWithThisTypeOfJob\")\n",
    "\n",
    "    return fig"
   ]
  },
  {
   "cell_type": "code",
   "execution_count": null,
   "metadata": {},
   "outputs": [],
   "source": [
    "    html.Br(),\n",
    "    dcc.Slider(\n",
    "        id=\"gender-slider\",\n",
    "        value=\"Female\",\n",
    "        marks={\n",
    "                gender: {\n",
    "                \"label\": gender,\n",
    "                \"style\": {\"color\": \"#7fafdf\"},\n",
    "                }\n",
    "                for gender in df['Gender']\n",
    "            },\n",
    "    ),\n",
    "    html.Br(),\n",
    "    dcc.Dropdown(id=\"slct_job\",\n",
    "                 options=[\n",
    "                     {\"label\": job, \"value\": job} for job in df['JobTitle']],\n",
    "                 multi=False,\n",
    "                 value=\"Manager\",\n",
    "                 style={'width': \"20%\"}\n",
    "                 ),\n",
    "    \n",
    "    \n",
    "\n",
    "    dcc.Graph(id=\"Experince\"),"
   ]
  }
 ],
 "metadata": {
  "interpreter": {
   "hash": "b53c3a37e441508ace578b6688a967cd76727ea9e436bd07fe44915c74bc3245"
  },
  "kernelspec": {
   "display_name": "Python 3.8.8 64-bit ('base': conda)",
   "language": "python",
   "name": "python3"
  },
  "language_info": {
   "codemirror_mode": {
    "name": "ipython",
    "version": 3
   },
   "file_extension": ".py",
   "mimetype": "text/x-python",
   "name": "python",
   "nbconvert_exporter": "python",
   "pygments_lexer": "ipython3",
   "version": "3.7.1"
  },
  "orig_nbformat": 4
 },
 "nbformat": 4,
 "nbformat_minor": 2
}
