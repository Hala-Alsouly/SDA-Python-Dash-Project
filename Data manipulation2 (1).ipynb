{
 "cells": [
  {
   "cell_type": "code",
   "execution_count": 56,
   "metadata": {},
   "outputs": [],
   "source": [
    "# Import our packages\n",
    "import numpy as np\n",
    "import matplotlib.pyplot as plt\n",
    "import pandas as pd\n",
    "import seaborn as sns"
   ]
  },
  {
   "cell_type": "code",
   "execution_count": 57,
   "metadata": {},
   "outputs": [],
   "source": [
    "import plotly.express as px\n",
    "import plotly.graph_objects as go\n",
    "from jupyter_dash import JupyterDash\n",
    "import dash_core_components as dcc\n",
    "import dash_html_components as html\n",
    "from dash.dependencies import Input, Output"
   ]
  },
  {
   "cell_type": "code",
   "execution_count": 58,
   "metadata": {},
   "outputs": [
    {
     "data": {
      "text/html": [
       "<div>\n",
       "<style scoped>\n",
       "    .dataframe tbody tr th:only-of-type {\n",
       "        vertical-align: middle;\n",
       "    }\n",
       "\n",
       "    .dataframe tbody tr th {\n",
       "        vertical-align: top;\n",
       "    }\n",
       "\n",
       "    .dataframe thead th {\n",
       "        text-align: right;\n",
       "    }\n",
       "</style>\n",
       "<table border=\"1\" class=\"dataframe\">\n",
       "  <thead>\n",
       "    <tr style=\"text-align: right;\">\n",
       "      <th></th>\n",
       "      <th>Survey Year</th>\n",
       "      <th>Timestamp</th>\n",
       "      <th>SalaryUSD</th>\n",
       "      <th>Country</th>\n",
       "      <th>PostalCode</th>\n",
       "      <th>PrimaryDatabase</th>\n",
       "      <th>YearsWithThisDatabase</th>\n",
       "      <th>OtherDatabases</th>\n",
       "      <th>EmploymentStatus</th>\n",
       "      <th>JobTitle</th>\n",
       "      <th>...</th>\n",
       "      <th>NewestVersionInProduction</th>\n",
       "      <th>OldestVersionInProduction</th>\n",
       "      <th>PopulationOfLargestCityWithin20Miles</th>\n",
       "      <th>EmploymentSector</th>\n",
       "      <th>LookingForAnotherJob</th>\n",
       "      <th>CareerPlansThisYear</th>\n",
       "      <th>Gender</th>\n",
       "      <th>OtherJobDuties</th>\n",
       "      <th>KindsOfTasksPerformed</th>\n",
       "      <th>Counter</th>\n",
       "    </tr>\n",
       "  </thead>\n",
       "  <tbody>\n",
       "    <tr>\n",
       "      <th>0</th>\n",
       "      <td>2021</td>\n",
       "      <td>12/10/2020 8:22:43</td>\n",
       "      <td>65,000</td>\n",
       "      <td>Sweden</td>\n",
       "      <td>NaN</td>\n",
       "      <td>Microsoft SQL Server</td>\n",
       "      <td>4</td>\n",
       "      <td>Microsoft SQL Server</td>\n",
       "      <td>Full time employee</td>\n",
       "      <td>Developer: Business Intelligence (SSRS, PowerB...</td>\n",
       "      <td>...</td>\n",
       "      <td>SQL Server 2016</td>\n",
       "      <td>SQL Server 2016</td>\n",
       "      <td>&lt;= 20,000 (town)</td>\n",
       "      <td>Private business</td>\n",
       "      <td>Not Asked</td>\n",
       "      <td>Stay with the same employer, same role</td>\n",
       "      <td>Male</td>\n",
       "      <td>Not Asked</td>\n",
       "      <td>Not Asked</td>\n",
       "      <td>1</td>\n",
       "    </tr>\n",
       "    <tr>\n",
       "      <th>1</th>\n",
       "      <td>2021</td>\n",
       "      <td>12/10/2020 8:23:22</td>\n",
       "      <td>145,000</td>\n",
       "      <td>United States</td>\n",
       "      <td>76063</td>\n",
       "      <td>Microsoft SQL Server</td>\n",
       "      <td>15</td>\n",
       "      <td>Azure SQL DB (any flavor)</td>\n",
       "      <td>Full time employee</td>\n",
       "      <td>DBA (Production Focus - build &amp; troubleshoot s...</td>\n",
       "      <td>...</td>\n",
       "      <td>SQL Server 2019</td>\n",
       "      <td>SQL Server 2014</td>\n",
       "      <td>1M+ (metropolis)</td>\n",
       "      <td>Private business</td>\n",
       "      <td>Not Asked</td>\n",
       "      <td>Stay with the same employer, same role</td>\n",
       "      <td>Male</td>\n",
       "      <td>Not Asked</td>\n",
       "      <td>Not Asked</td>\n",
       "      <td>1</td>\n",
       "    </tr>\n",
       "    <tr>\n",
       "      <th>2</th>\n",
       "      <td>2021</td>\n",
       "      <td>12/10/2020 8:23:38</td>\n",
       "      <td>105,000</td>\n",
       "      <td>United States</td>\n",
       "      <td>43240</td>\n",
       "      <td>Microsoft SQL Server</td>\n",
       "      <td>12</td>\n",
       "      <td>PostgreSQL, Azure SQL DB (any flavor)</td>\n",
       "      <td>Full time employee</td>\n",
       "      <td>DBA (General - splits time evenly between writ...</td>\n",
       "      <td>...</td>\n",
       "      <td>SQL Server 2017</td>\n",
       "      <td>SQL Server 2008R2</td>\n",
       "      <td>300K-1M (large city)</td>\n",
       "      <td>Private business</td>\n",
       "      <td>Not Asked</td>\n",
       "      <td>Stay with the same employer, same role</td>\n",
       "      <td>Male</td>\n",
       "      <td>Not Asked</td>\n",
       "      <td>Not Asked</td>\n",
       "      <td>1</td>\n",
       "    </tr>\n",
       "    <tr>\n",
       "      <th>3</th>\n",
       "      <td>2021</td>\n",
       "      <td>12/10/2020 8:23:48</td>\n",
       "      <td>46,482</td>\n",
       "      <td>United Kingdom</td>\n",
       "      <td>NaN</td>\n",
       "      <td>Microsoft SQL Server</td>\n",
       "      <td>10</td>\n",
       "      <td>Azure SQL DB (any flavor)</td>\n",
       "      <td>Full time employee</td>\n",
       "      <td>DBA (Production Focus - build &amp; troubleshoot s...</td>\n",
       "      <td>...</td>\n",
       "      <td>SQL Server 2019</td>\n",
       "      <td>SQL Server 2012</td>\n",
       "      <td>300K-1M (large city)</td>\n",
       "      <td>Education (K-12, college, university)</td>\n",
       "      <td>Not Asked</td>\n",
       "      <td>Stay with the same employer, same role</td>\n",
       "      <td>Male</td>\n",
       "      <td>Not Asked</td>\n",
       "      <td>Not Asked</td>\n",
       "      <td>1</td>\n",
       "    </tr>\n",
       "    <tr>\n",
       "      <th>4</th>\n",
       "      <td>2021</td>\n",
       "      <td>12/10/2020 8:24:04</td>\n",
       "      <td>98,800</td>\n",
       "      <td>United States</td>\n",
       "      <td>468</td>\n",
       "      <td>Microsoft SQL Server</td>\n",
       "      <td>5</td>\n",
       "      <td>DB2</td>\n",
       "      <td>Full time employee</td>\n",
       "      <td>Developer: Business Intelligence (SSRS, PowerB...</td>\n",
       "      <td>...</td>\n",
       "      <td>SQL Server 2019</td>\n",
       "      <td>SQL Server 2012</td>\n",
       "      <td>100K-299K (city)</td>\n",
       "      <td>Private business</td>\n",
       "      <td>Not Asked</td>\n",
       "      <td>Stay with the same employer, same role</td>\n",
       "      <td>Male</td>\n",
       "      <td>Not Asked</td>\n",
       "      <td>Not Asked</td>\n",
       "      <td>1</td>\n",
       "    </tr>\n",
       "  </tbody>\n",
       "</table>\n",
       "<p>5 rows × 31 columns</p>\n",
       "</div>"
      ],
      "text/plain": [
       "   Survey Year           Timestamp  SalaryUSD         Country PostalCode  \\\n",
       "0         2021  12/10/2020 8:22:43    65,000           Sweden        NaN   \n",
       "1         2021  12/10/2020 8:23:22   145,000    United States      76063   \n",
       "2         2021  12/10/2020 8:23:38   105,000    United States      43240   \n",
       "3         2021  12/10/2020 8:23:48    46,482   United Kingdom        NaN   \n",
       "4         2021  12/10/2020 8:24:04    98,800    United States        468   \n",
       "\n",
       "        PrimaryDatabase  YearsWithThisDatabase  \\\n",
       "0  Microsoft SQL Server                      4   \n",
       "1  Microsoft SQL Server                     15   \n",
       "2  Microsoft SQL Server                     12   \n",
       "3  Microsoft SQL Server                     10   \n",
       "4  Microsoft SQL Server                      5   \n",
       "\n",
       "                          OtherDatabases    EmploymentStatus  \\\n",
       "0                   Microsoft SQL Server  Full time employee   \n",
       "1              Azure SQL DB (any flavor)  Full time employee   \n",
       "2  PostgreSQL, Azure SQL DB (any flavor)  Full time employee   \n",
       "3              Azure SQL DB (any flavor)  Full time employee   \n",
       "4                                    DB2  Full time employee   \n",
       "\n",
       "                                            JobTitle  ...  \\\n",
       "0  Developer: Business Intelligence (SSRS, PowerB...  ...   \n",
       "1  DBA (Production Focus - build & troubleshoot s...  ...   \n",
       "2  DBA (General - splits time evenly between writ...  ...   \n",
       "3  DBA (Production Focus - build & troubleshoot s...  ...   \n",
       "4  Developer: Business Intelligence (SSRS, PowerB...  ...   \n",
       "\n",
       "  NewestVersionInProduction  OldestVersionInProduction  \\\n",
       "0           SQL Server 2016            SQL Server 2016   \n",
       "1           SQL Server 2019            SQL Server 2014   \n",
       "2           SQL Server 2017          SQL Server 2008R2   \n",
       "3           SQL Server 2019            SQL Server 2012   \n",
       "4           SQL Server 2019            SQL Server 2012   \n",
       "\n",
       "  PopulationOfLargestCityWithin20Miles                       EmploymentSector  \\\n",
       "0                     <= 20,000 (town)                       Private business   \n",
       "1                     1M+ (metropolis)                       Private business   \n",
       "2                 300K-1M (large city)                       Private business   \n",
       "3                 300K-1M (large city)  Education (K-12, college, university)   \n",
       "4                     100K-299K (city)                       Private business   \n",
       "\n",
       "  LookingForAnotherJob                     CareerPlansThisYear Gender  \\\n",
       "0            Not Asked  Stay with the same employer, same role   Male   \n",
       "1            Not Asked  Stay with the same employer, same role   Male   \n",
       "2            Not Asked  Stay with the same employer, same role   Male   \n",
       "3            Not Asked  Stay with the same employer, same role   Male   \n",
       "4            Not Asked  Stay with the same employer, same role   Male   \n",
       "\n",
       "  OtherJobDuties KindsOfTasksPerformed Counter  \n",
       "0      Not Asked             Not Asked       1  \n",
       "1      Not Asked             Not Asked       1  \n",
       "2      Not Asked             Not Asked       1  \n",
       "3      Not Asked             Not Asked       1  \n",
       "4      Not Asked             Not Asked       1  \n",
       "\n",
       "[5 rows x 31 columns]"
      ]
     },
     "execution_count": 58,
     "metadata": {},
     "output_type": "execute_result"
    }
   ],
   "source": [
    "df= pd.read_csv('Data_Professional_Salary_Survey_Responses.csv')\n",
    "df.rename(columns={' SalaryUSD ': 'SalaryUSD'}, inplace=True)\n",
    "#show the first 5 rows\n",
    "df.head()"
   ]
  },
  {
   "cell_type": "code",
   "execution_count": 59,
   "metadata": {},
   "outputs": [
    {
     "data": {
      "text/plain": [
       "(10341, 31)"
      ]
     },
     "execution_count": 59,
     "metadata": {},
     "output_type": "execute_result"
    }
   ],
   "source": [
    "df.shape"
   ]
  },
  {
   "cell_type": "markdown",
   "metadata": {},
   "source": [
    "## Determine how many missing values are present in each column"
   ]
  },
  {
   "cell_type": "code",
   "execution_count": 60,
   "metadata": {},
   "outputs": [],
   "source": [
    "# replacing missing values with np.nan\n",
    "missing_val = ['Not Asked']\n",
    "df.replace(missing_val, np.nan, inplace = True)"
   ]
  },
  {
   "cell_type": "code",
   "execution_count": 61,
   "metadata": {},
   "outputs": [
    {
     "data": {
      "text/plain": [
       "Survey Year                                0\n",
       "Timestamp                                  0\n",
       "SalaryUSD                                  0\n",
       "Country                                    0\n",
       "PostalCode                              4701\n",
       "PrimaryDatabase                            0\n",
       "YearsWithThisDatabase                      0\n",
       "OtherDatabases                          1944\n",
       "EmploymentStatus                           0\n",
       "JobTitle                                   0\n",
       "ManageStaff                                0\n",
       "YearsWithThisTypeOfJob                     0\n",
       "HowManyCompanies                        5992\n",
       "OtherPeopleOnYourTeam                      0\n",
       "CompanyEmployeesOverall                 7715\n",
       "DatabaseServers                         1747\n",
       "Education                               3470\n",
       "EducationIsComputerRelated              4682\n",
       "Certifications                          3470\n",
       "HoursWorkedPerWeek                      3470\n",
       "TelecommuteDaysPerWeek                  3470\n",
       "NewestVersionInProduction               6885\n",
       "OldestVersionInProduction               6884\n",
       "PopulationOfLargestCityWithin20Miles    5992\n",
       "EmploymentSector                           0\n",
       "LookingForAnotherJob                    3470\n",
       "CareerPlansThisYear                     2898\n",
       "Gender                                  2898\n",
       "OtherJobDuties                          6986\n",
       "KindsOfTasksPerformed                   6573\n",
       "Counter                                    0\n",
       "dtype: int64"
      ]
     },
     "execution_count": 61,
     "metadata": {},
     "output_type": "execute_result"
    }
   ],
   "source": [
    "# Look at total NaN values per column\n",
    "df.isnull().sum()"
   ]
  },
  {
   "cell_type": "code",
   "execution_count": 62,
   "metadata": {},
   "outputs": [
    {
     "data": {
      "text/plain": [
       "83247"
      ]
     },
     "execution_count": 62,
     "metadata": {},
     "output_type": "execute_result"
    }
   ],
   "source": [
    "df.isnull().sum().sum()"
   ]
  },
  {
   "cell_type": "markdown",
   "metadata": {},
   "source": [
    "## Remove columns that contains NaN more than 30%"
   ]
  },
  {
   "cell_type": "code",
   "execution_count": 63,
   "metadata": {},
   "outputs": [],
   "source": [
    "df=df.drop(['PostalCode', 'HowManyCompanies', 'CompanyEmployeesOverall', 'Education', 'EducationIsComputerRelated', \n",
    "'Certifications', 'HoursWorkedPerWeek', 'TelecommuteDaysPerWeek', 'NewestVersionInProduction', 'OldestVersionInProduction',\n",
    "'PopulationOfLargestCityWithin20Miles', 'OtherJobDuties', 'KindsOfTasksPerformed', 'LookingForAnotherJob'], axis = 1)"
   ]
  },
  {
   "cell_type": "code",
   "execution_count": 64,
   "metadata": {},
   "outputs": [
    {
     "data": {
      "text/plain": [
       "Survey Year                  0\n",
       "Timestamp                    0\n",
       "SalaryUSD                    0\n",
       "Country                      0\n",
       "PrimaryDatabase              0\n",
       "YearsWithThisDatabase        0\n",
       "OtherDatabases            1944\n",
       "EmploymentStatus             0\n",
       "JobTitle                     0\n",
       "ManageStaff                  0\n",
       "YearsWithThisTypeOfJob       0\n",
       "OtherPeopleOnYourTeam        0\n",
       "DatabaseServers           1747\n",
       "EmploymentSector             0\n",
       "CareerPlansThisYear       2898\n",
       "Gender                    2898\n",
       "Counter                      0\n",
       "dtype: int64"
      ]
     },
     "execution_count": 64,
     "metadata": {},
     "output_type": "execute_result"
    }
   ],
   "source": [
    "df.isnull().sum()"
   ]
  },
  {
   "cell_type": "markdown",
   "metadata": {},
   "source": [
    "## Fill nulls values"
   ]
  },
  {
   "cell_type": "code",
   "execution_count": 65,
   "metadata": {},
   "outputs": [],
   "source": [
    "df['OtherDatabases'] = df['OtherDatabases'].fillna(df['OtherDatabases'].mode()[0])\n",
    "df['DatabaseServers'] = df['DatabaseServers'].fillna(df['DatabaseServers'].mode()[0])\n",
    "df['CareerPlansThisYear'] = df['CareerPlansThisYear'].fillna(df['CareerPlansThisYear'].mode()[0])\n",
    "# We can't fill the Gender by mode. We assume that it is Unknown\n",
    "df['Gender'] = df['Gender'].fillna('Unknown')\n",
    "#df['Gender'] = df['Gender'].fillna('None')\n"
   ]
  },
  {
   "cell_type": "markdown",
   "metadata": {},
   "source": [
    "## Career Plans for each YEAR"
   ]
  },
  {
   "cell_type": "code",
   "execution_count": 66,
   "metadata": {},
   "outputs": [
    {
     "data": {
      "text/plain": [
       "Stay with the same employer, same role            7422\n",
       "Stay with the same employer,  but change roles     864\n",
       "Stay with the same role, but change employers      848\n",
       "Prefer not to say                                  609\n",
       "Change both employers and roles                    598\n",
       "Name: CareerPlansThisYear, dtype: int64"
      ]
     },
     "execution_count": 66,
     "metadata": {},
     "output_type": "execute_result"
    }
   ],
   "source": [
    "df['CareerPlansThisYear'].value_counts()"
   ]
  },
  {
   "cell_type": "code",
   "execution_count": 69,
   "metadata": {},
   "outputs": [
    {
     "data": {
      "text/plain": [
       "2018    3094\n",
       "2017    2898\n",
       "2021    1747\n",
       "2020    1723\n",
       "2019     879\n",
       "Name: Survey Year, dtype: int64"
      ]
     },
     "execution_count": 69,
     "metadata": {},
     "output_type": "execute_result"
    }
   ],
   "source": [
    "df['Survey Year'].value_counts()"
   ]
  },
  {
   "cell_type": "code",
   "execution_count": null,
   "metadata": {},
   "outputs": [],
   "source": [
    "#Employment Sector by each year\n",
    "#dfCareerPlan = df.groupby(['CareerPlansThisYear', 'Survey Year'])\\\n",
    "                     #.size()\\\n",
    "                     #.unstack(\"Survey Year\")\\\n",
    "                     \n",
    "\n",
    "# Filling null values with 0\n",
    "#dfCareerPlan.fillna(value = 0, inplace = True)\n",
    "\n",
    "# Total for each year for the 'Employment Sector'\n",
    "#dfCareerPlan[\"sum\"] = dfCareerPlan.iloc[:,1:].apply(lambda x: sum(x), axis=1)\n",
    "\n",
    "# View the data\n",
    "#dfCareerPlan"
   ]
  },
  {
   "cell_type": "code",
   "execution_count": null,
   "metadata": {},
   "outputs": [],
   "source": [
    "#dfCareerPlan = dfCareerPlan.reset_index()\n",
    "#dfCareerPlan"
   ]
  },
  {
   "cell_type": "code",
   "execution_count": null,
   "metadata": {},
   "outputs": [],
   "source": []
  },
  {
   "cell_type": "code",
   "execution_count": 116,
   "metadata": {},
   "outputs": [
    {
     "data": {
      "text/html": [
       "<div>\n",
       "<style scoped>\n",
       "    .dataframe tbody tr th:only-of-type {\n",
       "        vertical-align: middle;\n",
       "    }\n",
       "\n",
       "    .dataframe tbody tr th {\n",
       "        vertical-align: top;\n",
       "    }\n",
       "\n",
       "    .dataframe thead th {\n",
       "        text-align: right;\n",
       "    }\n",
       "</style>\n",
       "<table border=\"1\" class=\"dataframe\">\n",
       "  <thead>\n",
       "    <tr style=\"text-align: right;\">\n",
       "      <th></th>\n",
       "    </tr>\n",
       "    <tr>\n",
       "      <th>CareerPlansThisYear</th>\n",
       "    </tr>\n",
       "  </thead>\n",
       "  <tbody>\n",
       "    <tr>\n",
       "      <th>Change both employers and roles</th>\n",
       "    </tr>\n",
       "    <tr>\n",
       "      <th>Prefer not to say</th>\n",
       "    </tr>\n",
       "    <tr>\n",
       "      <th>Stay with the same employer,  but change roles</th>\n",
       "    </tr>\n",
       "    <tr>\n",
       "      <th>Stay with the same employer, same role</th>\n",
       "    </tr>\n",
       "    <tr>\n",
       "      <th>Stay with the same role, but change employers</th>\n",
       "    </tr>\n",
       "  </tbody>\n",
       "</table>\n",
       "</div>"
      ],
      "text/plain": [
       "Empty DataFrame\n",
       "Columns: []\n",
       "Index: [Change both employers and roles, Prefer not to say, Stay with the same employer,  but change roles, Stay with the same employer, same role, Stay with the same role, but change employers]"
      ]
     },
     "execution_count": 116,
     "metadata": {},
     "output_type": "execute_result"
    }
   ],
   "source": [
    "Career = df[['CareerPlansThisYear']].groupby(['CareerPlansThisYear']).count()\n",
    "\n",
    "# Load country list as option for multi select dropdown select\n",
    "optionsCareer =[{'label': \"Select All\", 'value': -1}]\n",
    "for i in range(len(Career.index)):\n",
    "    optionsCareer.append({'label': Career.index[i], 'value': Career.index[i]})\n",
    "\n",
    "Career"
   ]
  },
  {
   "cell_type": "code",
   "execution_count": 117,
   "metadata": {},
   "outputs": [],
   "source": [
    "def update_figure(val_country):\n",
    "    data = df\n",
    "\n",
    "    if (val_country != -1):\n",
    "        data = data[data[\"CareerPlansThisYear\"].isin(val_country)]\n",
    "\n",
    "    data = data.groupby([\"CareerPlansThisYear\"]).sum().reset_index()\n",
    "    data = data.reset_index()\n",
    "\n",
    "    return px.bar(\n",
    "        data,\n",
    "        x= \"CareerPlansThisYear\",\n",
    "        y= \"Survey Year\"\n",
    "    )"
   ]
  },
  {
   "cell_type": "markdown",
   "metadata": {},
   "source": [
    "## Dashboard"
   ]
  },
  {
   "cell_type": "code",
   "execution_count": 123,
   "metadata": {},
   "outputs": [
    {
     "name": "stderr",
     "output_type": "stream",
     "text": [
      "127.0.0.1 - - [26/Dec/2021 00:43:54] \"\u001b[37mGET /_shutdown_e0772828-6015-4132-89f1-e58262c7b794 HTTP/1.1\u001b[0m\" 200 -\n",
      " * Running on http://127.0.0.1:8050/ (Press CTRL+C to quit)\n",
      "127.0.0.1 - - [26/Dec/2021 00:43:54] \"\u001b[37mGET /_alive_e0772828-6015-4132-89f1-e58262c7b794 HTTP/1.1\u001b[0m\" 200 -\n"
     ]
    },
    {
     "data": {
      "text/html": [
       "\n",
       "        <iframe\n",
       "            width=\"100%\"\n",
       "            height=\"650\"\n",
       "            src=\"http://127.0.0.1:8050/\"\n",
       "            frameborder=\"0\"\n",
       "            allowfullscreen\n",
       "        ></iframe>\n",
       "        "
      ],
      "text/plain": [
       "<IPython.lib.display.IFrame at 0x7fbad7fad310>"
      ]
     },
     "metadata": {},
     "output_type": "display_data"
    }
   ],
   "source": [
    "# Build App\n",
    "app = JupyterDash(__name__)\n",
    "\n",
    "app.layout = html.Div([\n",
    "                       \n",
    "                       html.H1(\"Our Dashboard\"),\n",
    "\n",
    "                       html.Label('Slider for a year'),\n",
    "                       dcc.Slider(\n",
    "                                id = \"slide\",\n",
    "                                min=2017,\n",
    "                                max=2021,\n",
    "                                step=None,\n",
    "                                marks={\n",
    "                                     2017: '2017',\n",
    "                                     2018: '2018',\n",
    "                                     2019: '2019',\n",
    "                                     2020: '2020',\n",
    "                                     2021: '2021',\n",
    "                                        0: 'ALL',\n",
    "                                     },  \n",
    "                                value= -1,\n",
    "                             ), \n",
    "                       html.Br([]),\n",
    "                       dcc.Graph(id=\"careerPlans\"),\n",
    "])\n",
    "\n",
    "@app.callback(\n",
    "    Output('careerPlans', 'figure'),\n",
    "\n",
    "    [Input(\"slide\", \"value\"),]\n",
    ")\n",
    "\n",
    "def update_figure(val_country):\n",
    "    data = df\n",
    "\n",
    "    if (val_country != -1):\n",
    "        data = data[data[\"Survey Year\"].isin(val_country)]\n",
    "\n",
    "    data = data.groupby([\"CareerPlansThisYear\"]).sum().reset_index()\n",
    "    data = data.reset_index()\n",
    "\n",
    "    return px.bar(\n",
    "        data,\n",
    "        x= \"CareerPlansThisYear\",\n",
    "        y= \"Survey Year\",\n",
    "        \n",
    "    )\n",
    "\n",
    "\n",
    "\n",
    "if __name__ == '__main__':\n",
    "    app.run_server(mode=\"inline\", debug=False)\n",
    "\n"
   ]
  }
 ],
 "metadata": {
  "interpreter": {
   "hash": "95d73d6fd1cff5fb2f41ff3c75621fd967f90acca1c16714a7d5860f4cfbfbc9"
  },
  "kernelspec": {
   "display_name": "Python 3",
   "language": "python",
   "name": "python3"
  },
  "language_info": {
   "codemirror_mode": {
    "name": "ipython",
    "version": 3
   },
   "file_extension": ".py",
   "mimetype": "text/x-python",
   "name": "python",
   "nbconvert_exporter": "python",
   "pygments_lexer": "ipython3",
   "version": "3.8.8"
  },
  "varInspector": {
   "cols": {
    "lenName": 16,
    "lenType": 16,
    "lenVar": 40
   },
   "kernels_config": {
    "python": {
     "delete_cmd_postfix": "",
     "delete_cmd_prefix": "del ",
     "library": "var_list.py",
     "varRefreshCmd": "print(var_dic_list())"
    },
    "r": {
     "delete_cmd_postfix": ") ",
     "delete_cmd_prefix": "rm(",
     "library": "var_list.r",
     "varRefreshCmd": "cat(var_dic_list()) "
    }
   },
   "types_to_exclude": [
    "module",
    "function",
    "builtin_function_or_method",
    "instance",
    "_Feature"
   ],
   "window_display": false
  }
 },
 "nbformat": 4,
 "nbformat_minor": 2
}
