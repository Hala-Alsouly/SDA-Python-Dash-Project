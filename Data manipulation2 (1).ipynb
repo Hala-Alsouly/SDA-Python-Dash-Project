{
 "cells": [
  {
   "cell_type": "code",
   "execution_count": 1,
   "metadata": {},
   "outputs": [],
   "source": [
    "# Import our packages\n",
    "import numpy as np\n",
    "import matplotlib.pyplot as plt\n",
    "import pandas as pd\n",
    "import seaborn as sns"
   ]
  },
  {
   "cell_type": "code",
   "execution_count": 2,
   "metadata": {},
   "outputs": [
    {
     "name": "stderr",
     "output_type": "stream",
     "text": [
      "<ipython-input-2-d833b9a257c0>:4: UserWarning: \n",
      "The dash_core_components package is deprecated. Please replace\n",
      "`import dash_core_components as dcc` with `from dash import dcc`\n",
      "  import dash_core_components as dcc\n",
      "<ipython-input-2-d833b9a257c0>:5: UserWarning: \n",
      "The dash_html_components package is deprecated. Please replace\n",
      "`import dash_html_components as html` with `from dash import html`\n",
      "  import dash_html_components as html\n"
     ]
    }
   ],
   "source": [
    "import plotly.express as px\n",
    "import plotly.graph_objects as go\n",
    "from jupyter_dash import JupyterDash\n",
    "import dash_core_components as dcc\n",
    "import dash_html_components as html\n",
    "from dash.dependencies import Input, Output"
   ]
  },
  {
   "cell_type": "code",
   "execution_count": 3,
   "metadata": {},
   "outputs": [
    {
     "data": {
      "text/html": [
       "<div>\n",
       "<style scoped>\n",
       "    .dataframe tbody tr th:only-of-type {\n",
       "        vertical-align: middle;\n",
       "    }\n",
       "\n",
       "    .dataframe tbody tr th {\n",
       "        vertical-align: top;\n",
       "    }\n",
       "\n",
       "    .dataframe thead th {\n",
       "        text-align: right;\n",
       "    }\n",
       "</style>\n",
       "<table border=\"1\" class=\"dataframe\">\n",
       "  <thead>\n",
       "    <tr style=\"text-align: right;\">\n",
       "      <th></th>\n",
       "      <th>Survey Year</th>\n",
       "      <th>Timestamp</th>\n",
       "      <th>SalaryUSD</th>\n",
       "      <th>Country</th>\n",
       "      <th>PostalCode</th>\n",
       "      <th>PrimaryDatabase</th>\n",
       "      <th>YearsWithThisDatabase</th>\n",
       "      <th>OtherDatabases</th>\n",
       "      <th>EmploymentStatus</th>\n",
       "      <th>JobTitle</th>\n",
       "      <th>...</th>\n",
       "      <th>NewestVersionInProduction</th>\n",
       "      <th>OldestVersionInProduction</th>\n",
       "      <th>PopulationOfLargestCityWithin20Miles</th>\n",
       "      <th>EmploymentSector</th>\n",
       "      <th>LookingForAnotherJob</th>\n",
       "      <th>CareerPlansThisYear</th>\n",
       "      <th>Gender</th>\n",
       "      <th>OtherJobDuties</th>\n",
       "      <th>KindsOfTasksPerformed</th>\n",
       "      <th>Counter</th>\n",
       "    </tr>\n",
       "  </thead>\n",
       "  <tbody>\n",
       "    <tr>\n",
       "      <th>0</th>\n",
       "      <td>2021</td>\n",
       "      <td>12/10/2020 8:22:43</td>\n",
       "      <td>65,000</td>\n",
       "      <td>Sweden</td>\n",
       "      <td>NaN</td>\n",
       "      <td>Microsoft SQL Server</td>\n",
       "      <td>4</td>\n",
       "      <td>Microsoft SQL Server</td>\n",
       "      <td>Full time employee</td>\n",
       "      <td>Developer: Business Intelligence (SSRS, PowerB...</td>\n",
       "      <td>...</td>\n",
       "      <td>SQL Server 2016</td>\n",
       "      <td>SQL Server 2016</td>\n",
       "      <td>&lt;= 20,000 (town)</td>\n",
       "      <td>Private business</td>\n",
       "      <td>Not Asked</td>\n",
       "      <td>Stay with the same employer, same role</td>\n",
       "      <td>Male</td>\n",
       "      <td>Not Asked</td>\n",
       "      <td>Not Asked</td>\n",
       "      <td>1</td>\n",
       "    </tr>\n",
       "    <tr>\n",
       "      <th>1</th>\n",
       "      <td>2021</td>\n",
       "      <td>12/10/2020 8:23:22</td>\n",
       "      <td>145,000</td>\n",
       "      <td>United States</td>\n",
       "      <td>76063</td>\n",
       "      <td>Microsoft SQL Server</td>\n",
       "      <td>15</td>\n",
       "      <td>Azure SQL DB (any flavor)</td>\n",
       "      <td>Full time employee</td>\n",
       "      <td>DBA (Production Focus - build &amp; troubleshoot s...</td>\n",
       "      <td>...</td>\n",
       "      <td>SQL Server 2019</td>\n",
       "      <td>SQL Server 2014</td>\n",
       "      <td>1M+ (metropolis)</td>\n",
       "      <td>Private business</td>\n",
       "      <td>Not Asked</td>\n",
       "      <td>Stay with the same employer, same role</td>\n",
       "      <td>Male</td>\n",
       "      <td>Not Asked</td>\n",
       "      <td>Not Asked</td>\n",
       "      <td>1</td>\n",
       "    </tr>\n",
       "    <tr>\n",
       "      <th>2</th>\n",
       "      <td>2021</td>\n",
       "      <td>12/10/2020 8:23:38</td>\n",
       "      <td>105,000</td>\n",
       "      <td>United States</td>\n",
       "      <td>43240</td>\n",
       "      <td>Microsoft SQL Server</td>\n",
       "      <td>12</td>\n",
       "      <td>PostgreSQL, Azure SQL DB (any flavor)</td>\n",
       "      <td>Full time employee</td>\n",
       "      <td>DBA (General - splits time evenly between writ...</td>\n",
       "      <td>...</td>\n",
       "      <td>SQL Server 2017</td>\n",
       "      <td>SQL Server 2008R2</td>\n",
       "      <td>300K-1M (large city)</td>\n",
       "      <td>Private business</td>\n",
       "      <td>Not Asked</td>\n",
       "      <td>Stay with the same employer, same role</td>\n",
       "      <td>Male</td>\n",
       "      <td>Not Asked</td>\n",
       "      <td>Not Asked</td>\n",
       "      <td>1</td>\n",
       "    </tr>\n",
       "    <tr>\n",
       "      <th>3</th>\n",
       "      <td>2021</td>\n",
       "      <td>12/10/2020 8:23:48</td>\n",
       "      <td>46,482</td>\n",
       "      <td>United Kingdom</td>\n",
       "      <td>NaN</td>\n",
       "      <td>Microsoft SQL Server</td>\n",
       "      <td>10</td>\n",
       "      <td>Azure SQL DB (any flavor)</td>\n",
       "      <td>Full time employee</td>\n",
       "      <td>DBA (Production Focus - build &amp; troubleshoot s...</td>\n",
       "      <td>...</td>\n",
       "      <td>SQL Server 2019</td>\n",
       "      <td>SQL Server 2012</td>\n",
       "      <td>300K-1M (large city)</td>\n",
       "      <td>Education (K-12, college, university)</td>\n",
       "      <td>Not Asked</td>\n",
       "      <td>Stay with the same employer, same role</td>\n",
       "      <td>Male</td>\n",
       "      <td>Not Asked</td>\n",
       "      <td>Not Asked</td>\n",
       "      <td>1</td>\n",
       "    </tr>\n",
       "    <tr>\n",
       "      <th>4</th>\n",
       "      <td>2021</td>\n",
       "      <td>12/10/2020 8:24:04</td>\n",
       "      <td>98,800</td>\n",
       "      <td>United States</td>\n",
       "      <td>468</td>\n",
       "      <td>Microsoft SQL Server</td>\n",
       "      <td>5</td>\n",
       "      <td>DB2</td>\n",
       "      <td>Full time employee</td>\n",
       "      <td>Developer: Business Intelligence (SSRS, PowerB...</td>\n",
       "      <td>...</td>\n",
       "      <td>SQL Server 2019</td>\n",
       "      <td>SQL Server 2012</td>\n",
       "      <td>100K-299K (city)</td>\n",
       "      <td>Private business</td>\n",
       "      <td>Not Asked</td>\n",
       "      <td>Stay with the same employer, same role</td>\n",
       "      <td>Male</td>\n",
       "      <td>Not Asked</td>\n",
       "      <td>Not Asked</td>\n",
       "      <td>1</td>\n",
       "    </tr>\n",
       "  </tbody>\n",
       "</table>\n",
       "<p>5 rows × 31 columns</p>\n",
       "</div>"
      ],
      "text/plain": [
       "   Survey Year           Timestamp  SalaryUSD         Country PostalCode  \\\n",
       "0         2021  12/10/2020 8:22:43    65,000           Sweden        NaN   \n",
       "1         2021  12/10/2020 8:23:22   145,000    United States      76063   \n",
       "2         2021  12/10/2020 8:23:38   105,000    United States      43240   \n",
       "3         2021  12/10/2020 8:23:48    46,482   United Kingdom        NaN   \n",
       "4         2021  12/10/2020 8:24:04    98,800    United States        468   \n",
       "\n",
       "        PrimaryDatabase  YearsWithThisDatabase  \\\n",
       "0  Microsoft SQL Server                      4   \n",
       "1  Microsoft SQL Server                     15   \n",
       "2  Microsoft SQL Server                     12   \n",
       "3  Microsoft SQL Server                     10   \n",
       "4  Microsoft SQL Server                      5   \n",
       "\n",
       "                          OtherDatabases    EmploymentStatus  \\\n",
       "0                   Microsoft SQL Server  Full time employee   \n",
       "1              Azure SQL DB (any flavor)  Full time employee   \n",
       "2  PostgreSQL, Azure SQL DB (any flavor)  Full time employee   \n",
       "3              Azure SQL DB (any flavor)  Full time employee   \n",
       "4                                    DB2  Full time employee   \n",
       "\n",
       "                                            JobTitle  ...  \\\n",
       "0  Developer: Business Intelligence (SSRS, PowerB...  ...   \n",
       "1  DBA (Production Focus - build & troubleshoot s...  ...   \n",
       "2  DBA (General - splits time evenly between writ...  ...   \n",
       "3  DBA (Production Focus - build & troubleshoot s...  ...   \n",
       "4  Developer: Business Intelligence (SSRS, PowerB...  ...   \n",
       "\n",
       "  NewestVersionInProduction  OldestVersionInProduction  \\\n",
       "0           SQL Server 2016            SQL Server 2016   \n",
       "1           SQL Server 2019            SQL Server 2014   \n",
       "2           SQL Server 2017          SQL Server 2008R2   \n",
       "3           SQL Server 2019            SQL Server 2012   \n",
       "4           SQL Server 2019            SQL Server 2012   \n",
       "\n",
       "  PopulationOfLargestCityWithin20Miles                       EmploymentSector  \\\n",
       "0                     <= 20,000 (town)                       Private business   \n",
       "1                     1M+ (metropolis)                       Private business   \n",
       "2                 300K-1M (large city)                       Private business   \n",
       "3                 300K-1M (large city)  Education (K-12, college, university)   \n",
       "4                     100K-299K (city)                       Private business   \n",
       "\n",
       "  LookingForAnotherJob                     CareerPlansThisYear Gender  \\\n",
       "0            Not Asked  Stay with the same employer, same role   Male   \n",
       "1            Not Asked  Stay with the same employer, same role   Male   \n",
       "2            Not Asked  Stay with the same employer, same role   Male   \n",
       "3            Not Asked  Stay with the same employer, same role   Male   \n",
       "4            Not Asked  Stay with the same employer, same role   Male   \n",
       "\n",
       "  OtherJobDuties KindsOfTasksPerformed Counter  \n",
       "0      Not Asked             Not Asked       1  \n",
       "1      Not Asked             Not Asked       1  \n",
       "2      Not Asked             Not Asked       1  \n",
       "3      Not Asked             Not Asked       1  \n",
       "4      Not Asked             Not Asked       1  \n",
       "\n",
       "[5 rows x 31 columns]"
      ]
     },
     "execution_count": 3,
     "metadata": {},
     "output_type": "execute_result"
    }
   ],
   "source": [
    "df= pd.read_csv('Data_Professional_Salary_Survey_Responses.csv')\n",
    "df.rename(columns={' SalaryUSD ': 'SalaryUSD'}, inplace=True)\n",
    "#show the first 5 rows\n",
    "df.head()"
   ]
  },
  {
   "cell_type": "code",
   "execution_count": 4,
   "metadata": {},
   "outputs": [
    {
     "data": {
      "text/plain": [
       "(10341, 31)"
      ]
     },
     "execution_count": 4,
     "metadata": {},
     "output_type": "execute_result"
    }
   ],
   "source": [
    "df.shape"
   ]
  },
  {
   "cell_type": "markdown",
   "metadata": {},
   "source": [
    "## Determine how many missing values are present in each column"
   ]
  },
  {
   "cell_type": "code",
   "execution_count": 5,
   "metadata": {},
   "outputs": [],
   "source": [
    "# replacing missing values with np.nan\n",
    "missing_val = ['Not Asked']\n",
    "df.replace(missing_val, np.nan, inplace = True)"
   ]
  },
  {
   "cell_type": "code",
   "execution_count": 6,
   "metadata": {},
   "outputs": [
    {
     "data": {
      "text/plain": [
       "Survey Year                                0\n",
       "Timestamp                                  0\n",
       "SalaryUSD                                  0\n",
       "Country                                    0\n",
       "PostalCode                              4701\n",
       "PrimaryDatabase                            0\n",
       "YearsWithThisDatabase                      0\n",
       "OtherDatabases                          1944\n",
       "EmploymentStatus                           0\n",
       "JobTitle                                   0\n",
       "ManageStaff                                0\n",
       "YearsWithThisTypeOfJob                     0\n",
       "HowManyCompanies                        5992\n",
       "OtherPeopleOnYourTeam                      0\n",
       "CompanyEmployeesOverall                 7715\n",
       "DatabaseServers                         1747\n",
       "Education                               3470\n",
       "EducationIsComputerRelated              4682\n",
       "Certifications                          3470\n",
       "HoursWorkedPerWeek                      3470\n",
       "TelecommuteDaysPerWeek                  3470\n",
       "NewestVersionInProduction               6885\n",
       "OldestVersionInProduction               6884\n",
       "PopulationOfLargestCityWithin20Miles    5992\n",
       "EmploymentSector                           0\n",
       "LookingForAnotherJob                    3470\n",
       "CareerPlansThisYear                     2898\n",
       "Gender                                  2898\n",
       "OtherJobDuties                          6986\n",
       "KindsOfTasksPerformed                   6573\n",
       "Counter                                    0\n",
       "dtype: int64"
      ]
     },
     "execution_count": 6,
     "metadata": {},
     "output_type": "execute_result"
    }
   ],
   "source": [
    "# Look at total NaN values per column\n",
    "df.isnull().sum()"
   ]
  },
  {
   "cell_type": "code",
   "execution_count": 7,
   "metadata": {},
   "outputs": [
    {
     "data": {
      "text/plain": [
       "83247"
      ]
     },
     "execution_count": 7,
     "metadata": {},
     "output_type": "execute_result"
    }
   ],
   "source": [
    "df.isnull().sum().sum()"
   ]
  },
  {
   "cell_type": "markdown",
   "metadata": {},
   "source": [
    "## Remove columns that contains NaN more than 30%"
   ]
  },
  {
   "cell_type": "code",
   "execution_count": 8,
   "metadata": {},
   "outputs": [],
   "source": [
    "df=df.drop(['PostalCode', 'HowManyCompanies', 'CompanyEmployeesOverall', 'Education', 'EducationIsComputerRelated', \n",
    "'Certifications', 'HoursWorkedPerWeek', 'TelecommuteDaysPerWeek', 'NewestVersionInProduction', 'OldestVersionInProduction',\n",
    "'PopulationOfLargestCityWithin20Miles', 'OtherJobDuties', 'KindsOfTasksPerformed', 'LookingForAnotherJob'], axis = 1)"
   ]
  },
  {
   "cell_type": "code",
   "execution_count": 9,
   "metadata": {},
   "outputs": [
    {
     "data": {
      "text/plain": [
       "Survey Year                  0\n",
       "Timestamp                    0\n",
       "SalaryUSD                    0\n",
       "Country                      0\n",
       "PrimaryDatabase              0\n",
       "YearsWithThisDatabase        0\n",
       "OtherDatabases            1944\n",
       "EmploymentStatus             0\n",
       "JobTitle                     0\n",
       "ManageStaff                  0\n",
       "YearsWithThisTypeOfJob       0\n",
       "OtherPeopleOnYourTeam        0\n",
       "DatabaseServers           1747\n",
       "EmploymentSector             0\n",
       "CareerPlansThisYear       2898\n",
       "Gender                    2898\n",
       "Counter                      0\n",
       "dtype: int64"
      ]
     },
     "execution_count": 9,
     "metadata": {},
     "output_type": "execute_result"
    }
   ],
   "source": [
    "df.isnull().sum()"
   ]
  },
  {
   "cell_type": "markdown",
   "metadata": {},
   "source": [
    "## Fill nulls values"
   ]
  },
  {
   "cell_type": "code",
   "execution_count": 10,
   "metadata": {},
   "outputs": [],
   "source": [
    "df['OtherDatabases'] = df['OtherDatabases'].fillna(df['OtherDatabases'].mode()[0])\n",
    "df['DatabaseServers'] = df['DatabaseServers'].fillna(df['DatabaseServers'].mode()[0])\n",
    "df['CareerPlansThisYear'] = df['CareerPlansThisYear'].fillna(df['CareerPlansThisYear'].mode()[0])\n",
    "# We can't fill the Gender by mode. We assume that it is Unknown\n",
    "df['Gender'] = df['Gender'].fillna('Unknown')\n",
    "#df['Gender'] = df['Gender'].fillna('None')\n"
   ]
  },
  {
   "cell_type": "markdown",
   "metadata": {},
   "source": [
    "## Career Plans for each YEAR"
   ]
  },
  {
   "cell_type": "code",
   "execution_count": 11,
   "metadata": {},
   "outputs": [
    {
     "data": {
      "text/plain": [
       "Stay with the same employer, same role            7422\n",
       "Stay with the same employer,  but change roles     864\n",
       "Stay with the same role, but change employers      848\n",
       "Prefer not to say                                  609\n",
       "Change both employers and roles                    598\n",
       "Name: CareerPlansThisYear, dtype: int64"
      ]
     },
     "execution_count": 11,
     "metadata": {},
     "output_type": "execute_result"
    }
   ],
   "source": [
    "df['CareerPlansThisYear'].value_counts()"
   ]
  },
  {
   "cell_type": "code",
   "execution_count": 12,
   "metadata": {},
   "outputs": [
    {
     "data": {
      "text/plain": [
       "2018    3094\n",
       "2017    2898\n",
       "2021    1747\n",
       "2020    1723\n",
       "2019     879\n",
       "Name: Survey Year, dtype: int64"
      ]
     },
     "execution_count": 12,
     "metadata": {},
     "output_type": "execute_result"
    }
   ],
   "source": [
    "df['Survey Year'].value_counts()"
   ]
  },
  {
   "cell_type": "code",
   "execution_count": 13,
   "metadata": {},
   "outputs": [
    {
     "data": {
      "text/html": [
       "<div>\n",
       "<style scoped>\n",
       "    .dataframe tbody tr th:only-of-type {\n",
       "        vertical-align: middle;\n",
       "    }\n",
       "\n",
       "    .dataframe tbody tr th {\n",
       "        vertical-align: top;\n",
       "    }\n",
       "\n",
       "    .dataframe thead th {\n",
       "        text-align: right;\n",
       "    }\n",
       "</style>\n",
       "<table border=\"1\" class=\"dataframe\">\n",
       "  <thead>\n",
       "    <tr style=\"text-align: right;\">\n",
       "      <th>Survey Year</th>\n",
       "      <th>2017</th>\n",
       "      <th>2018</th>\n",
       "      <th>2019</th>\n",
       "      <th>2020</th>\n",
       "      <th>2021</th>\n",
       "      <th>sum</th>\n",
       "    </tr>\n",
       "    <tr>\n",
       "      <th>CareerPlansThisYear</th>\n",
       "      <th></th>\n",
       "      <th></th>\n",
       "      <th></th>\n",
       "      <th></th>\n",
       "      <th></th>\n",
       "      <th></th>\n",
       "    </tr>\n",
       "  </thead>\n",
       "  <tbody>\n",
       "    <tr>\n",
       "      <th>Change both employers and roles</th>\n",
       "      <td>0.0</td>\n",
       "      <td>237.0</td>\n",
       "      <td>56.0</td>\n",
       "      <td>156.0</td>\n",
       "      <td>149.0</td>\n",
       "      <td>598.0</td>\n",
       "    </tr>\n",
       "    <tr>\n",
       "      <th>Prefer not to say</th>\n",
       "      <td>0.0</td>\n",
       "      <td>270.0</td>\n",
       "      <td>75.0</td>\n",
       "      <td>136.0</td>\n",
       "      <td>128.0</td>\n",
       "      <td>609.0</td>\n",
       "    </tr>\n",
       "    <tr>\n",
       "      <th>Stay with the same employer,  but change roles</th>\n",
       "      <td>0.0</td>\n",
       "      <td>377.0</td>\n",
       "      <td>106.0</td>\n",
       "      <td>201.0</td>\n",
       "      <td>180.0</td>\n",
       "      <td>864.0</td>\n",
       "    </tr>\n",
       "    <tr>\n",
       "      <th>Stay with the same employer, same role</th>\n",
       "      <td>2898.0</td>\n",
       "      <td>1852.0</td>\n",
       "      <td>532.0</td>\n",
       "      <td>1029.0</td>\n",
       "      <td>1111.0</td>\n",
       "      <td>4524.0</td>\n",
       "    </tr>\n",
       "    <tr>\n",
       "      <th>Stay with the same role, but change employers</th>\n",
       "      <td>0.0</td>\n",
       "      <td>358.0</td>\n",
       "      <td>110.0</td>\n",
       "      <td>201.0</td>\n",
       "      <td>179.0</td>\n",
       "      <td>848.0</td>\n",
       "    </tr>\n",
       "  </tbody>\n",
       "</table>\n",
       "</div>"
      ],
      "text/plain": [
       "Survey Year                                       2017    2018   2019    2020  \\\n",
       "CareerPlansThisYear                                                             \n",
       "Change both employers and roles                    0.0   237.0   56.0   156.0   \n",
       "Prefer not to say                                  0.0   270.0   75.0   136.0   \n",
       "Stay with the same employer,  but change roles     0.0   377.0  106.0   201.0   \n",
       "Stay with the same employer, same role          2898.0  1852.0  532.0  1029.0   \n",
       "Stay with the same role, but change employers      0.0   358.0  110.0   201.0   \n",
       "\n",
       "Survey Year                                       2021     sum  \n",
       "CareerPlansThisYear                                             \n",
       "Change both employers and roles                  149.0   598.0  \n",
       "Prefer not to say                                128.0   609.0  \n",
       "Stay with the same employer,  but change roles   180.0   864.0  \n",
       "Stay with the same employer, same role          1111.0  4524.0  \n",
       "Stay with the same role, but change employers    179.0   848.0  "
      ]
     },
     "execution_count": 13,
     "metadata": {},
     "output_type": "execute_result"
    }
   ],
   "source": [
    "#Employment Sector by each year\n",
    "dfCareerPlan = df.groupby(['CareerPlansThisYear', 'Survey Year'])\\\n",
    "                     .size()\\\n",
    "                     .unstack(\"Survey Year\")\\\n",
    "                     \n",
    "\n",
    "# Filling null values with 0\n",
    "dfCareerPlan.fillna(value = 0, inplace = True)\n",
    "\n",
    "# Total for each year for the 'Employment Sector'\n",
    "dfCareerPlan[\"sum\"] = dfCareerPlan.iloc[:,1:].apply(lambda x: sum(x), axis=1)\n",
    "\n",
    "# View the data\n",
    "dfCareerPlan"
   ]
  },
  {
   "cell_type": "code",
   "execution_count": 14,
   "metadata": {},
   "outputs": [
    {
     "data": {
      "image/png": "[encoded data removed]",
      "text/plain": [
       "<Figure size 432x288 with 1 Axes>"
      ]
     },
     "metadata": {
      "needs_background": "light"
     },
     "output_type": "display_data"
    }
   ],
   "source": [
    "# Plot\n",
    "\n",
    "# dfPlan\n",
    "dfCareerPlan.drop(\"sum\", axis=1).plot(kind=\"barh\", colormap='tab20c', \n",
    "                                stacked=True, title=\"Career Plans for each YEAR\")\n",
    "plt.show();"
   ]
  },
  {
   "cell_type": "code",
   "execution_count": 15,
   "metadata": {},
   "outputs": [
    {
     "data": {
      "text/html": [
       "<div>\n",
       "<style scoped>\n",
       "    .dataframe tbody tr th:only-of-type {\n",
       "        vertical-align: middle;\n",
       "    }\n",
       "\n",
       "    .dataframe tbody tr th {\n",
       "        vertical-align: top;\n",
       "    }\n",
       "\n",
       "    .dataframe thead th {\n",
       "        text-align: right;\n",
       "    }\n",
       "</style>\n",
       "<table border=\"1\" class=\"dataframe\">\n",
       "  <thead>\n",
       "    <tr style=\"text-align: right;\">\n",
       "      <th>Survey Year</th>\n",
       "      <th>2017</th>\n",
       "      <th>2018</th>\n",
       "      <th>2019</th>\n",
       "      <th>2020</th>\n",
       "      <th>2021</th>\n",
       "      <th>sum</th>\n",
       "    </tr>\n",
       "    <tr>\n",
       "      <th>CareerPlansThisYear</th>\n",
       "      <th></th>\n",
       "      <th></th>\n",
       "      <th></th>\n",
       "      <th></th>\n",
       "      <th></th>\n",
       "      <th></th>\n",
       "    </tr>\n",
       "  </thead>\n",
       "  <tbody>\n",
       "    <tr>\n",
       "      <th>Change both employers and roles</th>\n",
       "      <td>0.0</td>\n",
       "      <td>237.0</td>\n",
       "      <td>56.0</td>\n",
       "      <td>156.0</td>\n",
       "      <td>149.0</td>\n",
       "      <td>598.0</td>\n",
       "    </tr>\n",
       "    <tr>\n",
       "      <th>Prefer not to say</th>\n",
       "      <td>0.0</td>\n",
       "      <td>270.0</td>\n",
       "      <td>75.0</td>\n",
       "      <td>136.0</td>\n",
       "      <td>128.0</td>\n",
       "      <td>609.0</td>\n",
       "    </tr>\n",
       "    <tr>\n",
       "      <th>Stay with the same employer,  but change roles</th>\n",
       "      <td>0.0</td>\n",
       "      <td>377.0</td>\n",
       "      <td>106.0</td>\n",
       "      <td>201.0</td>\n",
       "      <td>180.0</td>\n",
       "      <td>864.0</td>\n",
       "    </tr>\n",
       "    <tr>\n",
       "      <th>Stay with the same employer, same role</th>\n",
       "      <td>2898.0</td>\n",
       "      <td>1852.0</td>\n",
       "      <td>532.0</td>\n",
       "      <td>1029.0</td>\n",
       "      <td>1111.0</td>\n",
       "      <td>4524.0</td>\n",
       "    </tr>\n",
       "    <tr>\n",
       "      <th>Stay with the same role, but change employers</th>\n",
       "      <td>0.0</td>\n",
       "      <td>358.0</td>\n",
       "      <td>110.0</td>\n",
       "      <td>201.0</td>\n",
       "      <td>179.0</td>\n",
       "      <td>848.0</td>\n",
       "    </tr>\n",
       "  </tbody>\n",
       "</table>\n",
       "</div>"
      ],
      "text/plain": [
       "Survey Year                                       2017    2018   2019    2020  \\\n",
       "CareerPlansThisYear                                                             \n",
       "Change both employers and roles                    0.0   237.0   56.0   156.0   \n",
       "Prefer not to say                                  0.0   270.0   75.0   136.0   \n",
       "Stay with the same employer,  but change roles     0.0   377.0  106.0   201.0   \n",
       "Stay with the same employer, same role          2898.0  1852.0  532.0  1029.0   \n",
       "Stay with the same role, but change employers      0.0   358.0  110.0   201.0   \n",
       "\n",
       "Survey Year                                       2021     sum  \n",
       "CareerPlansThisYear                                             \n",
       "Change both employers and roles                  149.0   598.0  \n",
       "Prefer not to say                                128.0   609.0  \n",
       "Stay with the same employer,  but change roles   180.0   864.0  \n",
       "Stay with the same employer, same role          1111.0  4524.0  \n",
       "Stay with the same role, but change employers    179.0   848.0  "
      ]
     },
     "execution_count": 15,
     "metadata": {},
     "output_type": "execute_result"
    }
   ],
   "source": [
    "dfCareerPlan"
   ]
  },
  {
   "cell_type": "markdown",
   "metadata": {},
   "source": [
    "## Dashboard"
   ]
  },
  {
   "cell_type": "code",
   "execution_count": 16,
   "metadata": {},
   "outputs": [
    {
     "name": "stderr",
     "output_type": "stream",
     "text": [
      " * Running on http://127.0.0.1:8050/ (Press CTRL+C to quit)\n",
      "127.0.0.1 - - [25/Dec/2021 22:57:05] \"\u001b[37mGET /_alive_35313755-f917-4de0-aeb4-56d2d0846500 HTTP/1.1\u001b[0m\" 200 -\n"
     ]
    },
    {
     "data": {
      "text/html": [
       "\n",
       "        <iframe\n",
       "            width=\"100%\"\n",
       "            height=\"650\"\n",
       "            src=\"http://127.0.0.1:8050/\"\n",
       "            frameborder=\"0\"\n",
       "            allowfullscreen\n",
       "        ></iframe>\n",
       "        "
      ],
      "text/plain": [
       "<IPython.lib.display.IFrame at 0x7f9696c1ac40>"
      ]
     },
     "metadata": {},
     "output_type": "display_data"
    }
   ],
   "source": [
    "# Build App\n",
    "app = JupyterDash(__name__)\n",
    "\n",
    "app.layout = html.Div([\n",
    "                       \n",
    "                       html.H1(\"Our Dashboard\"),\n",
    "\n",
    "                       html.Label('Slider for a year'),\n",
    "                       dcc.Slider(\n",
    "                                id = \"slide\",\n",
    "                                min=2017,\n",
    "                                max=2021,\n",
    "                                step=None,\n",
    "                                marks={\n",
    "                                     2017: '2017',\n",
    "                                     2018: '2018',\n",
    "                                     2019: '2019',\n",
    "                                     2020: '2020',\n",
    "                                     2021: '2021',\n",
    "                                        0: 'ALL',\n",
    "                                     },  \n",
    "                                value= -1,\n",
    "                             ), \n",
    "                       html.Br([]),\n",
    "                       dcc.Graph(id=\"careerPlans\"),\n",
    "])\n",
    "\n",
    "@app.callback(\n",
    "    Output('careerPlans', 'figure'),\n",
    "    [Input(\"slide\", \"value\"),]\n",
    ")\n",
    "\n",
    "def update_figure(val_slide):\n",
    "\n",
    "    dataPlan = dfCareerPlan\n",
    "\n",
    "    if (val_slide != -1):\n",
    "        dataPlan = dataPlan[dataPlan[\"Survey Year\"].isin(val_slide)]\n",
    "    else:\n",
    "        dataPlan = dataPlan[dataPlan[\"Survey Year\"]]\n",
    "        \n",
    "\n",
    "    dataPlan = dataPlan.reset_index()\n",
    "\n",
    "    F = px.bar(dataPlan, x=\"sum\", y=\"CareerPlansThisYear\", title=\" Careers plans for each year\")\n",
    "    return F\n",
    "\n",
    "\n",
    "\n",
    "if __name__ == '__main__':\n",
    "    app.run_server(mode=\"inline\", debug=False)\n",
    "\n"
   ]
  },
  {
   "cell_type": "code",
   "execution_count": 17,
   "metadata": {},
   "outputs": [
    {
     "data": {
      "text/html": [
       "<div>\n",
       "<style scoped>\n",
       "    .dataframe tbody tr th:only-of-type {\n",
       "        vertical-align: middle;\n",
       "    }\n",
       "\n",
       "    .dataframe tbody tr th {\n",
       "        vertical-align: top;\n",
       "    }\n",
       "\n",
       "    .dataframe thead th {\n",
       "        text-align: right;\n",
       "    }\n",
       "</style>\n",
       "<table border=\"1\" class=\"dataframe\">\n",
       "  <thead>\n",
       "    <tr style=\"text-align: right;\">\n",
       "      <th>Survey Year</th>\n",
       "      <th>CareerPlansThisYear</th>\n",
       "      <th>2017</th>\n",
       "      <th>2018</th>\n",
       "      <th>2019</th>\n",
       "      <th>2020</th>\n",
       "      <th>2021</th>\n",
       "      <th>sum</th>\n",
       "    </tr>\n",
       "  </thead>\n",
       "  <tbody>\n",
       "    <tr>\n",
       "      <th>0</th>\n",
       "      <td>Change both employers and roles</td>\n",
       "      <td>0.0</td>\n",
       "      <td>237.0</td>\n",
       "      <td>56.0</td>\n",
       "      <td>156.0</td>\n",
       "      <td>149.0</td>\n",
       "      <td>598.0</td>\n",
       "    </tr>\n",
       "    <tr>\n",
       "      <th>1</th>\n",
       "      <td>Prefer not to say</td>\n",
       "      <td>0.0</td>\n",
       "      <td>270.0</td>\n",
       "      <td>75.0</td>\n",
       "      <td>136.0</td>\n",
       "      <td>128.0</td>\n",
       "      <td>609.0</td>\n",
       "    </tr>\n",
       "    <tr>\n",
       "      <th>2</th>\n",
       "      <td>Stay with the same employer,  but change roles</td>\n",
       "      <td>0.0</td>\n",
       "      <td>377.0</td>\n",
       "      <td>106.0</td>\n",
       "      <td>201.0</td>\n",
       "      <td>180.0</td>\n",
       "      <td>864.0</td>\n",
       "    </tr>\n",
       "    <tr>\n",
       "      <th>3</th>\n",
       "      <td>Stay with the same employer, same role</td>\n",
       "      <td>2898.0</td>\n",
       "      <td>1852.0</td>\n",
       "      <td>532.0</td>\n",
       "      <td>1029.0</td>\n",
       "      <td>1111.0</td>\n",
       "      <td>4524.0</td>\n",
       "    </tr>\n",
       "    <tr>\n",
       "      <th>4</th>\n",
       "      <td>Stay with the same role, but change employers</td>\n",
       "      <td>0.0</td>\n",
       "      <td>358.0</td>\n",
       "      <td>110.0</td>\n",
       "      <td>201.0</td>\n",
       "      <td>179.0</td>\n",
       "      <td>848.0</td>\n",
       "    </tr>\n",
       "  </tbody>\n",
       "</table>\n",
       "</div>"
      ],
      "text/plain": [
       "Survey Year                             CareerPlansThisYear    2017    2018  \\\n",
       "0                           Change both employers and roles     0.0   237.0   \n",
       "1                                         Prefer not to say     0.0   270.0   \n",
       "2            Stay with the same employer,  but change roles     0.0   377.0   \n",
       "3                    Stay with the same employer, same role  2898.0  1852.0   \n",
       "4             Stay with the same role, but change employers     0.0   358.0   \n",
       "\n",
       "Survey Year   2019    2020    2021     sum  \n",
       "0             56.0   156.0   149.0   598.0  \n",
       "1             75.0   136.0   128.0   609.0  \n",
       "2            106.0   201.0   180.0   864.0  \n",
       "3            532.0  1029.0  1111.0  4524.0  \n",
       "4            110.0   201.0   179.0   848.0  "
      ]
     },
     "execution_count": 17,
     "metadata": {},
     "output_type": "execute_result"
    }
   ],
   "source": [
    "dfCareerPlan = dfCareerPlan.reset_index()\n",
    "dfCareerPlan"
   ]
  },
  {
   "cell_type": "code",
   "execution_count": 18,
   "metadata": {},
   "outputs": [
    {
     "data": {
      "application/vnd.plotly.v1+json": {
       "config": {
        "plotlyServerURL": "https://plot.ly"
       },
       "data": [
        {
         "alignmentgroup": "True",
         "hovertemplate": "sum=%{x}<br>CareerPlansThisYear=%{y}<extra></extra>",
         "legendgroup": "",
         "marker": {
          "color": "#636efa",
          "pattern": {
           "shape": ""
          }
         },
         "name": "",
         "offsetgroup": "",
         "orientation": "h",
         "showlegend": false,
         "textposition": "auto",
         "type": "bar",
         "x": [
          598,
          609,
          864,
          4524,
          848
         ],
         "xaxis": "x",
         "y": [
          "Change both employers and roles",
          "Prefer not to say",
          "Stay with the same employer,  but change roles",
          "Stay with the same employer, same role",
          "Stay with the same role, but change employers"
         ],
         "yaxis": "y"
        }
       ],
       "layout": {
        "barmode": "relative",
        "legend": {
         "tracegroupgap": 0
        },
        "template": {
         "data": {
          "bar": [
           {
            "error_x": {
             "color": "#2a3f5f"
            },
            "error_y": {
             "color": "#2a3f5f"
            },
            "marker": {
             "line": {
              "color": "#E5ECF6",
              "width": 0.5
             },
             "pattern": {
              "fillmode": "overlay",
              "size": 10,
              "solidity": 0.2
             }
            },
            "type": "bar"
           }
          ],
          "barpolar": [
           {
            "marker": {
             "line": {
              "color": "#E5ECF6",
              "width": 0.5
             },
             "pattern": {
              "fillmode": "overlay",
              "size": 10,
              "solidity": 0.2
             }
            },
            "type": "barpolar"
           }
          ],
          "carpet": [
           {
            "aaxis": {
             "endlinecolor": "#2a3f5f",
             "gridcolor": "white",
             "linecolor": "white",
             "minorgridcolor": "white",
             "startlinecolor": "#2a3f5f"
            },
            "baxis": {
             "endlinecolor": "#2a3f5f",
             "gridcolor": "white",
             "linecolor": "white",
             "minorgridcolor": "white",
             "startlinecolor": "#2a3f5f"
            },
            "type": "carpet"
           }
          ],
          "choropleth": [
           {
            "colorbar": {
             "outlinewidth": 0,
             "ticks": ""
            },
            "type": "choropleth"
           }
          ],
          "contour": [
           {
            "colorbar": {
             "outlinewidth": 0,
             "ticks": ""
            },
            "colorscale": [
             [
              0,
              "#0d0887"
             ],
             [
              0.1111111111111111,
              "#46039f"
             ],
             [
              0.2222222222222222,
              "#7201a8"
             ],
             [
              0.3333333333333333,
              "#9c179e"
             ],
             [
              0.4444444444444444,
              "#bd3786"
             ],
             [
              0.5555555555555556,
              "#d8576b"
             ],
             [
              0.6666666666666666,
              "#ed7953"
             ],
             [
              0.7777777777777778,
              "#fb9f3a"
             ],
             [
              0.8888888888888888,
              "#fdca26"
             ],
             [
              1,
              "#f0f921"
             ]
            ],
            "type": "contour"
           }
          ],
          "contourcarpet": [
           {
            "colorbar": {
             "outlinewidth": 0,
             "ticks": ""
            },
            "type": "contourcarpet"
           }
          ],
          "heatmap": [
           {
            "colorbar": {
             "outlinewidth": 0,
             "ticks": ""
            },
            "colorscale": [
             [
              0,
              "#0d0887"
             ],
             [
              0.1111111111111111,
              "#46039f"
             ],
             [
              0.2222222222222222,
              "#7201a8"
             ],
             [
              0.3333333333333333,
              "#9c179e"
             ],
             [
              0.4444444444444444,
              "#bd3786"
             ],
             [
              0.5555555555555556,
              "#d8576b"
             ],
             [
              0.6666666666666666,
              "#ed7953"
             ],
             [
              0.7777777777777778,
              "#fb9f3a"
             ],
             [
              0.8888888888888888,
              "#fdca26"
             ],
             [
              1,
              "#f0f921"
             ]
            ],
            "type": "heatmap"
           }
          ],
          "heatmapgl": [
           {
            "colorbar": {
             "outlinewidth": 0,
             "ticks": ""
            },
            "colorscale": [
             [
              0,
              "#0d0887"
             ],
             [
              0.1111111111111111,
              "#46039f"
             ],
             [
              0.2222222222222222,
              "#7201a8"
             ],
             [
              0.3333333333333333,
              "#9c179e"
             ],
             [
              0.4444444444444444,
              "#bd3786"
             ],
             [
              0.5555555555555556,
              "#d8576b"
             ],
             [
              0.6666666666666666,
              "#ed7953"
             ],
             [
              0.7777777777777778,
              "#fb9f3a"
             ],
             [
              0.8888888888888888,
              "#fdca26"
             ],
             [
              1,
              "#f0f921"
             ]
            ],
            "type": "heatmapgl"
           }
          ],
          "histogram": [
           {
            "marker": {
             "pattern": {
              "fillmode": "overlay",
              "size": 10,
              "solidity": 0.2
             }
            },
            "type": "histogram"
           }
          ],
          "histogram2d": [
           {
            "colorbar": {
             "outlinewidth": 0,
             "ticks": ""
            },
            "colorscale": [
             [
              0,
              "#0d0887"
             ],
             [
              0.1111111111111111,
              "#46039f"
             ],
             [
              0.2222222222222222,
              "#7201a8"
             ],
             [
              0.3333333333333333,
              "#9c179e"
             ],
             [
              0.4444444444444444,
              "#bd3786"
             ],
             [
              0.5555555555555556,
              "#d8576b"
             ],
             [
              0.6666666666666666,
              "#ed7953"
             ],
             [
              0.7777777777777778,
              "#fb9f3a"
             ],
             [
              0.8888888888888888,
              "#fdca26"
             ],
             [
              1,
              "#f0f921"
             ]
            ],
            "type": "histogram2d"
           }
          ],
          "histogram2dcontour": [
           {
            "colorbar": {
             "outlinewidth": 0,
             "ticks": ""
            },
            "colorscale": [
             [
              0,
              "#0d0887"
             ],
             [
              0.1111111111111111,
              "#46039f"
             ],
             [
              0.2222222222222222,
              "#7201a8"
             ],
             [
              0.3333333333333333,
              "#9c179e"
             ],
             [
              0.4444444444444444,
              "#bd3786"
             ],
             [
              0.5555555555555556,
              "#d8576b"
             ],
             [
              0.6666666666666666,
              "#ed7953"
             ],
             [
              0.7777777777777778,
              "#fb9f3a"
             ],
             [
              0.8888888888888888,
              "#fdca26"
             ],
             [
              1,
              "#f0f921"
             ]
            ],
            "type": "histogram2dcontour"
           }
          ],
          "mesh3d": [
           {
            "colorbar": {
             "outlinewidth": 0,
             "ticks": ""
            },
            "type": "mesh3d"
           }
          ],
          "parcoords": [
           {
            "line": {
             "colorbar": {
              "outlinewidth": 0,
              "ticks": ""
             }
            },
            "type": "parcoords"
           }
          ],
          "pie": [
           {
            "automargin": true,
            "type": "pie"
           }
          ],
          "scatter": [
           {
            "marker": {
             "colorbar": {
              "outlinewidth": 0,
              "ticks": ""
             }
            },
            "type": "scatter"
           }
          ],
          "scatter3d": [
           {
            "line": {
             "colorbar": {
              "outlinewidth": 0,
              "ticks": ""
             }
            },
            "marker": {
             "colorbar": {
              "outlinewidth": 0,
              "ticks": ""
             }
            },
            "type": "scatter3d"
           }
          ],
          "scattercarpet": [
           {
            "marker": {
             "colorbar": {
              "outlinewidth": 0,
              "ticks": ""
             }
            },
            "type": "scattercarpet"
           }
          ],
          "scattergeo": [
           {
            "marker": {
             "colorbar": {
              "outlinewidth": 0,
              "ticks": ""
             }
            },
            "type": "scattergeo"
           }
          ],
          "scattergl": [
           {
            "marker": {
             "colorbar": {
              "outlinewidth": 0,
              "ticks": ""
             }
            },
            "type": "scattergl"
           }
          ],
          "scattermapbox": [
           {
            "marker": {
             "colorbar": {
              "outlinewidth": 0,
              "ticks": ""
             }
            },
            "type": "scattermapbox"
           }
          ],
          "scatterpolar": [
           {
            "marker": {
             "colorbar": {
              "outlinewidth": 0,
              "ticks": ""
             }
            },
            "type": "scatterpolar"
           }
          ],
          "scatterpolargl": [
           {
            "marker": {
             "colorbar": {
              "outlinewidth": 0,
              "ticks": ""
             }
            },
            "type": "scatterpolargl"
           }
          ],
          "scatterternary": [
           {
            "marker": {
             "colorbar": {
              "outlinewidth": 0,
              "ticks": ""
             }
            },
            "type": "scatterternary"
           }
          ],
          "surface": [
           {
            "colorbar": {
             "outlinewidth": 0,
             "ticks": ""
            },
            "colorscale": [
             [
              0,
              "#0d0887"
             ],
             [
              0.1111111111111111,
              "#46039f"
             ],
             [
              0.2222222222222222,
              "#7201a8"
             ],
             [
              0.3333333333333333,
              "#9c179e"
             ],
             [
              0.4444444444444444,
              "#bd3786"
             ],
             [
              0.5555555555555556,
              "#d8576b"
             ],
             [
              0.6666666666666666,
              "#ed7953"
             ],
             [
              0.7777777777777778,
              "#fb9f3a"
             ],
             [
              0.8888888888888888,
              "#fdca26"
             ],
             [
              1,
              "#f0f921"
             ]
            ],
            "type": "surface"
           }
          ],
          "table": [
           {
            "cells": {
             "fill": {
              "color": "#EBF0F8"
             },
             "line": {
              "color": "white"
             }
            },
            "header": {
             "fill": {
              "color": "#C8D4E3"
             },
             "line": {
              "color": "white"
             }
            },
            "type": "table"
           }
          ]
         },
         "layout": {
          "annotationdefaults": {
           "arrowcolor": "#2a3f5f",
           "arrowhead": 0,
           "arrowwidth": 1
          },
          "autotypenumbers": "strict",
          "coloraxis": {
           "colorbar": {
            "outlinewidth": 0,
            "ticks": ""
           }
          },
          "colorscale": {
           "diverging": [
            [
             0,
             "#8e0152"
            ],
            [
             0.1,
             "#c51b7d"
            ],
            [
             0.2,
             "#de77ae"
            ],
            [
             0.3,
             "#f1b6da"
            ],
            [
             0.4,
             "#fde0ef"
            ],
            [
             0.5,
             "#f7f7f7"
            ],
            [
             0.6,
             "#e6f5d0"
            ],
            [
             0.7,
             "#b8e186"
            ],
            [
             0.8,
             "#7fbc41"
            ],
            [
             0.9,
             "#4d9221"
            ],
            [
             1,
             "#276419"
            ]
           ],
           "sequential": [
            [
             0,
             "#0d0887"
            ],
            [
             0.1111111111111111,
             "#46039f"
            ],
            [
             0.2222222222222222,
             "#7201a8"
            ],
            [
             0.3333333333333333,
             "#9c179e"
            ],
            [
             0.4444444444444444,
             "#bd3786"
            ],
            [
             0.5555555555555556,
             "#d8576b"
            ],
            [
             0.6666666666666666,
             "#ed7953"
            ],
            [
             0.7777777777777778,
             "#fb9f3a"
            ],
            [
             0.8888888888888888,
             "#fdca26"
            ],
            [
             1,
             "#f0f921"
            ]
           ],
           "sequentialminus": [
            [
             0,
             "#0d0887"
            ],
            [
             0.1111111111111111,
             "#46039f"
            ],
            [
             0.2222222222222222,
             "#7201a8"
            ],
            [
             0.3333333333333333,
             "#9c179e"
            ],
            [
             0.4444444444444444,
             "#bd3786"
            ],
            [
             0.5555555555555556,
             "#d8576b"
            ],
            [
             0.6666666666666666,
             "#ed7953"
            ],
            [
             0.7777777777777778,
             "#fb9f3a"
            ],
            [
             0.8888888888888888,
             "#fdca26"
            ],
            [
             1,
             "#f0f921"
            ]
           ]
          },
          "colorway": [
           "#636efa",
           "#EF553B",
           "#00cc96",
           "#ab63fa",
           "#FFA15A",
           "#19d3f3",
           "#FF6692",
           "#B6E880",
           "#FF97FF",
           "#FECB52"
          ],
          "font": {
           "color": "#2a3f5f"
          },
          "geo": {
           "bgcolor": "white",
           "lakecolor": "white",
           "landcolor": "#E5ECF6",
           "showlakes": true,
           "showland": true,
           "subunitcolor": "white"
          },
          "hoverlabel": {
           "align": "left"
          },
          "hovermode": "closest",
          "mapbox": {
           "style": "light"
          },
          "paper_bgcolor": "white",
          "plot_bgcolor": "#E5ECF6",
          "polar": {
           "angularaxis": {
            "gridcolor": "white",
            "linecolor": "white",
            "ticks": ""
           },
           "bgcolor": "#E5ECF6",
           "radialaxis": {
            "gridcolor": "white",
            "linecolor": "white",
            "ticks": ""
           }
          },
          "scene": {
           "xaxis": {
            "backgroundcolor": "#E5ECF6",
            "gridcolor": "white",
            "gridwidth": 2,
            "linecolor": "white",
            "showbackground": true,
            "ticks": "",
            "zerolinecolor": "white"
           },
           "yaxis": {
            "backgroundcolor": "#E5ECF6",
            "gridcolor": "white",
            "gridwidth": 2,
            "linecolor": "white",
            "showbackground": true,
            "ticks": "",
            "zerolinecolor": "white"
           },
           "zaxis": {
            "backgroundcolor": "#E5ECF6",
            "gridcolor": "white",
            "gridwidth": 2,
            "linecolor": "white",
            "showbackground": true,
            "ticks": "",
            "zerolinecolor": "white"
           }
          },
          "shapedefaults": {
           "line": {
            "color": "#2a3f5f"
           }
          },
          "ternary": {
           "aaxis": {
            "gridcolor": "white",
            "linecolor": "white",
            "ticks": ""
           },
           "baxis": {
            "gridcolor": "white",
            "linecolor": "white",
            "ticks": ""
           },
           "bgcolor": "#E5ECF6",
           "caxis": {
            "gridcolor": "white",
            "linecolor": "white",
            "ticks": ""
           }
          },
          "title": {
           "x": 0.05
          },
          "xaxis": {
           "automargin": true,
           "gridcolor": "white",
           "linecolor": "white",
           "ticks": "",
           "title": {
            "standoff": 15
           },
           "zerolinecolor": "white",
           "zerolinewidth": 2
          },
          "yaxis": {
           "automargin": true,
           "gridcolor": "white",
           "linecolor": "white",
           "ticks": "",
           "title": {
            "standoff": 15
           },
           "zerolinecolor": "white",
           "zerolinewidth": 2
          }
         }
        },
        "title": {
         "text": " Careers plans for each year"
        },
        "xaxis": {
         "anchor": "y",
         "domain": [
          0,
          1
         ],
         "title": {
          "text": "sum"
         }
        },
        "yaxis": {
         "anchor": "x",
         "domain": [
          0,
          1
         ],
         "title": {
          "text": "CareerPlansThisYear"
         }
        }
       }
      }
     },
     "metadata": {},
     "output_type": "display_data"
    },
    {
     "name": "stderr",
     "output_type": "stream",
     "text": [
      "127.0.0.1 - - [25/Dec/2021 22:57:06] \"\u001b[37mGET / HTTP/1.1\u001b[0m\" 200 -\n",
      "127.0.0.1 - - [25/Dec/2021 22:57:06] \"\u001b[37mGET /_dash-layout HTTP/1.1\u001b[0m\" 200 -\n",
      "127.0.0.1 - - [25/Dec/2021 22:57:06] \"\u001b[37mGET /_dash-dependencies HTTP/1.1\u001b[0m\" 200 -\n",
      "127.0.0.1 - - [25/Dec/2021 22:57:06] \"\u001b[37mGET /_dash-component-suites/dash/dcc/async-slider.js HTTP/1.1\u001b[0m\" 200 -\n",
      "127.0.0.1 - - [25/Dec/2021 22:57:06] \"\u001b[37mGET /_dash-component-suites/dash/dcc/async-graph.js HTTP/1.1\u001b[0m\" 200 -\n",
      "127.0.0.1 - - [25/Dec/2021 22:57:06] \"\u001b[37mGET /_dash-component-suites/dash/dcc/async-plotlyjs.js HTTP/1.1\u001b[0m\" 200 -\n",
      "127.0.0.1 - - [25/Dec/2021 22:57:08] \"\u001b[35m\u001b[1mPOST /_dash-update-component HTTP/1.1\u001b[0m\" 500 -\n"
     ]
    },
    {
     "name": "stdout",
     "output_type": "stream",
     "text": [
      "\u001b[1;31m---------------------------------------------------------------------------\u001b[0m\n",
      "\u001b[1;31mKeyError\u001b[0m                                  Traceback (most recent call last)\n",
      "\u001b[1;32m~/opt/anaconda3/lib/python3.8/site-packages/pandas/core/indexes/base.py\u001b[0m in \u001b[0;36mget_loc\u001b[1;34m(\n",
      "    self=Index(['CareerPlansThisYear', 2017, 2018, 2019, ...2021, 'sum'], dtype='object', name='Survey Year'),\n",
      "    key='Survey Year',\n",
      "    method=None,\n",
      "    tolerance=None\n",
      ")\u001b[0m\n",
      "\u001b[0;32m   3079\u001b[0m             \u001b[1;32mtry\u001b[0m\u001b[1;33m:\u001b[0m\u001b[1;33m\u001b[0m\u001b[1;33m\u001b[0m\u001b[0m\n",
      "\u001b[1;32m-> 3080\u001b[1;33m                 \u001b[1;32mreturn\u001b[0m \u001b[0mself\u001b[0m\u001b[1;33m.\u001b[0m\u001b[0m_engine\u001b[0m\u001b[1;33m.\u001b[0m\u001b[0mget_loc\u001b[0m\u001b[1;33m(\u001b[0m\u001b[0mcasted_key\u001b[0m\u001b[1;33m)\u001b[0m\u001b[1;33m\u001b[0m\u001b[1;33m\u001b[0m\u001b[0m\n",
      "\u001b[0m        \u001b[0;36mself._engine.get_loc\u001b[0m \u001b[1;34m= <built-in method get_loc of pandas._libs.index.ObjectEngine object at 0x7f9696e30270>\u001b[0m\u001b[1;34m\n",
      "        \u001b[0m\u001b[0;36mcasted_key\u001b[0m \u001b[1;34m= 'Survey Year'\u001b[0m\n",
      "\u001b[0;32m   3081\u001b[0m             \u001b[1;32mexcept\u001b[0m \u001b[0mKeyError\u001b[0m \u001b[1;32mas\u001b[0m \u001b[0merr\u001b[0m\u001b[1;33m:\u001b[0m\u001b[1;33m\u001b[0m\u001b[1;33m\u001b[0m\u001b[0m\n",
      "\n",
      "\u001b[1;32mpandas/_libs/index.pyx\u001b[0m in \u001b[0;36mpandas._libs.index.IndexEngine.get_loc\u001b[1;34m()\u001b[0m\n",
      "\n",
      "\u001b[1;32mpandas/_libs/index.pyx\u001b[0m in \u001b[0;36mpandas._libs.index.IndexEngine.get_loc\u001b[1;34m()\u001b[0m\n",
      "\n",
      "\u001b[1;32mpandas/_libs/hashtable_class_helper.pxi\u001b[0m in \u001b[0;36mpandas._libs.hashtable.PyObjectHashTable.get_item\u001b[1;34m()\u001b[0m\n",
      "\n",
      "\u001b[1;32mpandas/_libs/hashtable_class_helper.pxi\u001b[0m in \u001b[0;36mpandas._libs.hashtable.PyObjectHashTable.get_item\u001b[1;34m()\u001b[0m\n",
      "\n",
      "\u001b[1;31mKeyError\u001b[0m: 'Survey Year'\n",
      "\n",
      "The above exception was the direct cause of the following exception:\n",
      "\n",
      "\u001b[1;31mKeyError\u001b[0m                                  Traceback (most recent call last)\n",
      "\u001b[1;31mKeyError\u001b[0m: 'Survey Year'\n",
      "\n"
     ]
    }
   ],
   "source": [
    "\n",
    "\n",
    "F = px.bar(dfCareerPlan, x=\"sum\", y=\"CareerPlansThisYear\", title=\" Careers plans for each year\")\n",
    "F.show()"
   ]
  },
  {
   "cell_type": "code",
   "execution_count": null,
   "metadata": {},
   "outputs": [],
   "source": []
  },
  {
   "cell_type": "code",
   "execution_count": null,
   "metadata": {},
   "outputs": [],
   "source": []
  },
  {
   "cell_type": "code",
   "execution_count": null,
   "metadata": {},
   "outputs": [],
   "source": []
  },
  {
   "cell_type": "code",
   "execution_count": null,
   "metadata": {},
   "outputs": [],
   "source": []
  }
 ],
 "metadata": {
  "interpreter": {
   "hash": "95d73d6fd1cff5fb2f41ff3c75621fd967f90acca1c16714a7d5860f4cfbfbc9"
  },
  "kernelspec": {
   "display_name": "Python 3",
   "language": "python",
   "name": "python3"
  },
  "language_info": {
   "codemirror_mode": {
    "name": "ipython",
    "version": 3
   },
   "file_extension": ".py",
   "mimetype": "text/x-python",
   "name": "python",
   "nbconvert_exporter": "python",
   "pygments_lexer": "ipython3",
   "version": "3.8.8"
  },
  "varInspector": {
   "cols": {
    "lenName": 16,
    "lenType": 16,
    "lenVar": 40
   },
   "kernels_config": {
    "python": {
     "delete_cmd_postfix": "",
     "delete_cmd_prefix": "del ",
     "library": "var_list.py",
     "varRefreshCmd": "print(var_dic_list())"
    },
    "r": {
     "delete_cmd_postfix": ") ",
     "delete_cmd_prefix": "rm(",
     "library": "var_list.r",
     "varRefreshCmd": "cat(var_dic_list()) "
    }
   },
   "types_to_exclude": [
    "module",
    "function",
    "builtin_function_or_method",
    "instance",
    "_Feature"
   ],
   "window_display": false
  }
 },
 "nbformat": 4,
 "nbformat_minor": 2
}
